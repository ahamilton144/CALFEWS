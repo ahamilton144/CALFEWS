{
 "cells": [
  {
   "cell_type": "markdown",
   "id": "quantitative-crown",
   "metadata": {},
   "source": [
    "### FKC capacity constraints"
   ]
  },
  {
   "cell_type": "code",
   "execution_count": null,
   "id": "close-looking",
   "metadata": {},
   "outputs": [],
   "source": [
    "# datDaily = get_results_sensitivity_number_outside_model('results/wy2017/results.hdf5', '')\n",
    "# keys = list(datDaily.keys())\n"
   ]
  },
  {
   "cell_type": "code",
   "execution_count": null,
   "id": "little-monroe",
   "metadata": {},
   "outputs": [],
   "source": [
    "# [s for s in keys if s.split('_')[0]=='lowertule']"
   ]
  },
  {
   "cell_type": "code",
   "execution_count": null,
   "id": "municipal-burton",
   "metadata": {},
   "outputs": [],
   "source": [
    "# flow = [s for s in keys if s.split('_')[0]=='fkc' and s.split('_')[2]=='flow']\n",
    "# nodes = [k.split('_')[1] for k in flow]\n",
    "# turnout = [s for s in keys if s.split('_')[0]=='fkc' and s.split('_')[2]=='turnout']"
   ]
  },
  {
   "cell_type": "code",
   "execution_count": null,
   "id": "early-green",
   "metadata": {},
   "outputs": [],
   "source": [
    "# plt.figure()\n",
    "# for k in flow:\n",
    "#     plt.plot(datDaily[k], label=k)\n",
    "# plt.legend()"
   ]
  },
  {
   "cell_type": "code",
   "execution_count": null,
   "id": "cordless-boundary",
   "metadata": {},
   "outputs": [],
   "source": [
    "# flowfrac = np.zeros((datDaily.shape[0], len(flow)))\n",
    "# flowtot = np.zeros((datDaily.shape[0], len(flow)))\n",
    "# for i,k in enumerate(flow):\n",
    "#     flowfrac[:, -(1+i)] = datDaily[k] / datDaily[k].max()\n",
    "#     flowtot[:, -(i+1)] = datDaily[k]\n",
    "# flowfrac = flowfrac.transpose()\n",
    "# flowtot = flowtot.transpose()\n",
    "\n",
    "# tofrac = np.zeros((datDaily.shape[0], len(turnout)))    \n",
    "# tonode = np.zeros((datDaily.shape[0], len(turnout)))    \n",
    "# for i,k in enumerate(turnout):\n",
    "#     tofrac[:, -(i+1)] = datDaily[k] / datDaily[k].max()\n",
    "#     tonode[:, -(i+1)] = datDaily[k]\n",
    "# tofrac = tofrac.transpose()\n",
    "# tonode = tonode.transpose()\n",
    "\n",
    "# totot = np.zeros((datDaily.shape[0]))    \n",
    "# for i,k in enumerate(turnout):\n",
    "#     totot[:] += datDaily[k]"
   ]
  },
  {
   "cell_type": "code",
   "execution_count": null,
   "id": "valuable-emergency",
   "metadata": {
    "scrolled": false
   },
   "outputs": [],
   "source": [
    "# fig, (ax1, ax2, ax3, ax4, ax5, ax6) = plt.subplots(6, figsize=(14,18), sharex=True)\n",
    "# ax1.plot((datDaily['fkc_COF_flow'] + datDaily['fkc_COF_turnout']).values)\n",
    "# ax1.set_ylabel('Flow from MIL (tAF)')\n",
    "\n",
    "# m = ax2.pcolormesh(flowtot)\n",
    "# a = ax2.set_ylabel('Friant-Kern Canal position (north ->)')\n",
    "# cb = plt.colorbar(mappable=m, ax=ax2)\n",
    "# cb.set_label('Flow (tAF)')\n",
    "\n",
    "# m = ax3.pcolormesh(flowfrac)\n",
    "# a = ax3.set_ylabel('Friant-Kern Canal position (north ->)')\n",
    "# cb = plt.colorbar(mappable=m, ax=ax3)\n",
    "# cb.set_label('Flow capacity fraction')\n",
    "\n",
    "\n",
    "# ax4.plot(totot)\n",
    "# ax4.set_ylabel('Total FKC turnout (tAF)')\n",
    "\n",
    "# m = ax5.pcolormesh(tonode)\n",
    "# a = ax5.set_ylabel('Friant-Kern Canal position (north ->)')\n",
    "# cb = plt.colorbar(mappable=m, ax=ax5)\n",
    "# cb.set_label('Turnout at node (tAF)')\n",
    "\n",
    "# m = ax6.pcolormesh(tofrac)\n",
    "# a = ax6.set_xlabel('Date')\n",
    "# a = ax6.set_ylabel('Friant-Kern Canal position (north ->)')\n",
    "# cb = plt.colorbar(mappable=m, ax=ax6)\n",
    "# cb.set_label('Turnout capacity fraction')"
   ]
  },
  {
   "cell_type": "code",
   "execution_count": null,
   "id": "civil-receipt",
   "metadata": {},
   "outputs": [],
   "source": [
    "# fkc_capacity = np.array([5217.0, 5217.0, 5217.0, 5217.0, 3797.0, 3887.0, 3887.0, 4196.0, 4196.0, 3427.0, 3427.0, 3427.0, 4060.0, 4060.0, 4060.0, 4060.0, 2921.0, 2921.0, 2921.0, 2921.0, 2921.0, 1625.0, 1625.0, 1625.0, 1893.0, 1893.0, 1893.0, 1897.0, 1897.0, 1000.0, 0.0])*  2.29568411*10**-5 * 86400 / 1000\n",
    "# # fkc_capacity = np.array([5300.0, 5300.0, 5300.0, 5217.0, 5000.0, 5000.0, 5000.0, 5000.0, 5000.0, 4500.0, 4500.0, 4500.0, 4500.0, 4500.0, 4500.0, 4500.0, 4000.0, 4000.0, 4000.0, 4000.0, 4000.0, 3500.0, 3500.0, 3500.0, 2500.0, 2500.0, 2500.0, 2500.0, 2500.0, 1000.0, 0.0])*  2.29568411*10**-5 * 86400 / 1000\n",
    "# fkc_node = [\"MIL\",\"FRS\",\"COF\",\"KGR\",\"OFK\",\"TUL\",\"KWD\",\"OKW\",\"KWR\",\"EXE\",\"LDS\",\"LND\",\"PRT\",\"LWT\",\"OTL\",\"TLR\",\"TPD\",\"SAU\",\"TBA\",\"OXV\",\"PIX\",\"DLE\",\"KRT\",\"SSJ\",\"SFW\",\"NKN\",\"NKB\",\"XVC\",\"KNR\",\"AEC\",\"none\"]\n",
    "# fkc_turnout = [0.0, 5300.0, 5300.0, 5217.0, 5000.0, 5000.0, 5000.0, 5000.0, 5000.0, 4500.0, 4500.0, 4500.0, 4500.0, 4500.0, 4500.0, 4500.0, 4000.0, 4000.0, 4000.0, 4000.0, 4000.0, 3500.0, 3500.0, 3500.0, 2500.0, 2500.0, 2500.0, 2500.0, 2500.0, 1000.0]\n",
    "# # print(len(fkc_capacity), len(fkc_node), len(fkc_turnout))\n",
    "# fkc_capacity = fkc_capacity[1:-1]\n"
   ]
  },
  {
   "cell_type": "code",
   "execution_count": null,
   "id": "involved-vietnamese",
   "metadata": {},
   "outputs": [],
   "source": [
    "# plt.figure(figsize=(14,10))\n",
    "# for i,k in enumerate(nodes):\n",
    "#     flow = datDaily['fkc_'+k+'_flow']\n",
    "#     plt.scatter(np.ones(flowtot.shape[1])*i, flow.values, alpha=0.1, c='b')\n",
    "# plt.plot(fkc_capacity, lw=3, c='k')"
   ]
  },
  {
   "cell_type": "code",
   "execution_count": null,
   "id": "thermal-penalty",
   "metadata": {},
   "outputs": [],
   "source": [
    "# flowfrac = np.zeros((datDaily.shape[0], len(flow)))\n",
    "# flowtot = np.zeros((datDaily.shape[0], len(flow)))\n",
    "# for i,k in enumerate(flow):\n",
    "#     flowfrac[:, i] = datDaily[k] / datDaily[k].max()\n",
    "#     flowtot[:, i] = datDaily[k]\n",
    "# flowfrac = flowfrac.transpose()\n",
    "# flowtot = flowtot.transpose()\n",
    "\n",
    "# tofrac = np.zeros((datDaily.shape[0], len(turnout)))    \n",
    "# tonode = np.zeros((datDaily.shape[0], len(turnout)))    \n",
    "# for i,k in enumerate(turnout):\n",
    "#     tofrac[:, i] = datDaily[k] / datDaily[k].max()\n",
    "#     tonode[:, i] = datDaily[k]\n",
    "# tofrac = tofrac.transpose()\n",
    "# tonode = tonode.transpose()\n",
    "\n",
    "# totot = np.zeros((datDaily.shape[0]))    \n",
    "# for i,k in enumerate(turnout):\n",
    "#     totot[:] += datDaily[k]"
   ]
  },
  {
   "cell_type": "code",
   "execution_count": null,
   "id": "favorite-sculpture",
   "metadata": {},
   "outputs": [],
   "source": [
    "# fig, (ax1, ax2) = plt.subplots(2, figsize=(14,12), sharex=True)\n",
    "# cmap = cm.get_cmap('hsv')\n",
    "# norm = colors.Normalize(vmin=0, vmax=365)\n",
    "\n",
    "# for t in range(365):\n",
    "#     col = (t%365)/365\n",
    "#     ax1.plot(flowtot[:,t], alpha=0.2, c=cmap(col))\n",
    "# ax1.plot(fkc_capacity, lw=3, c='k')\n",
    "\n",
    "# for t in range(365, flowtot.shape[1]):\n",
    "#     col = (t%365)/365\n",
    "#     ax2.plot(flowtot[:,t], alpha=0.2, c=cmap(col))\n",
    "# ax2.plot(fkc_capacity, lw=3, c='k')\n",
    "\n",
    "# cb1 = fig.colorbar(cm.ScalarMappable(cmap=cmap, norm=norm), orientation='horizontal')\n",
    "# cb1.set_label('Day of water year')"
   ]
  },
  {
   "cell_type": "code",
   "execution_count": null,
   "id": "earlier-kansas",
   "metadata": {},
   "outputs": [],
   "source": [
    "# fig, (ax1, ax2) = plt.subplots(2, figsize=(14,12), sharex=True, sharey=True)\n",
    "# cmap = cm.get_cmap('hsv')\n",
    "# norm = colors.Normalize(vmin=0, vmax=365)\n",
    "\n",
    "# for t in range(365):\n",
    "#     col = (t%365)/365\n",
    "#     ax1.plot(tonode[:,t], alpha=0.2, c=cmap(col))\n",
    "# # ax1.plot(fkc_capacity, lw=3, c='k')\n",
    "\n",
    "# for t in range(365, flowtot.shape[1]):\n",
    "#     col = (t%365)/365\n",
    "#     ax2.plot(tonode[:,t], alpha=0.2, c=cmap(col))\n",
    "# # ax2.plot(fkc_capacity, lw=3, c='k')\n",
    "\n",
    "# cb1 = fig.colorbar(cm.ScalarMappable(cmap=cmap, norm=norm), orientation='horizontal')\n",
    "# cb1.set_label('Day of water year')"
   ]
  },
  {
   "cell_type": "markdown",
   "id": "amber-adolescent",
   "metadata": {},
   "source": [
    "## compare fkc ownership scenarios"
   ]
  },
  {
   "cell_type": "code",
   "execution_count": null,
   "id": "genuine-fitting",
   "metadata": {},
   "outputs": [],
   "source": []
  },
  {
   "cell_type": "code",
   "execution_count": null,
   "id": "alien-google",
   "metadata": {},
   "outputs": [],
   "source": [
    "# dat = {}\n",
    "# dat['NoRehab'] = get_results_sensitivity_number_outside_model('results/new_noRehab/results.hdf5', '')\n",
    "# dat['NoOwn'] = get_results_sensitivity_number_outside_model('results/FKC_rehab_ownership_LWT/results.hdf5', '')\n",
    "# dat['WithOwn'] = get_results_sensitivity_number_outside_model('results/FKC_rehab_ownership_LWT_PIX_DLE_SSJ/results.hdf5', '')\n",
    "# keys = {}\n",
    "# keys['NoRehab'] = list(dat['NoRehab'].keys())\n",
    "# keys['NoOwn'] = list(dat['NoOwn'].keys())\n",
    "# keys['WithOwn'] = list(dat['WithOwn'].keys())\n"
   ]
  },
  {
   "cell_type": "code",
   "execution_count": null,
   "id": "sapphire-password",
   "metadata": {},
   "outputs": [],
   "source": [
    "# [len(l) for l in keys.values()]"
   ]
  },
  {
   "cell_type": "code",
   "execution_count": null,
   "id": "proof-supplier",
   "metadata": {},
   "outputs": [],
   "source": [
    "# flow = {}\n",
    "# nodes = {}\n",
    "# turnout = {}\n",
    "# for k in ['NoRehab', 'NoOwn', 'WithOwn']:\n",
    "#     flow[k] = [s for s in keys[k] if s.split('_')[0]=='fkc' and s.split('_')[2]=='flow']\n",
    "#     nodes[k] = [k.split('_')[1] for k in flow[k]]\n",
    "#     turnout[k] = [s for s in keys[k] if s.split('_')[0]=='fkc' and s.split('_')[2]=='turnout']\n",
    "# # flow"
   ]
  },
  {
   "cell_type": "code",
   "execution_count": null,
   "id": "entitled-pleasure",
   "metadata": {},
   "outputs": [],
   "source": [
    "# # plt.figure()\n",
    "# # for k in flow:\n",
    "# #     plt.plot(datDaily[k], label=k)\n",
    "# # plt.legend()\n",
    "# l = 'fkc_SFW_turnout'\n",
    "# plt.figure(figsize=(10,14))\n",
    "# for k in ['WithOwn']:#, 'WithOwn']:\n",
    "#     print(k)\n",
    "#     plt.scatter(dat['NoOwn'][l], dat[k][l], alpha=0.4, label=k)\n",
    "\n",
    "# plt.plot([0,dat[k][l].max()],[0,dat[k][l].max()],c='k')\n",
    "# plt.legend()"
   ]
  },
  {
   "cell_type": "code",
   "execution_count": null,
   "id": "tropical-cameroon",
   "metadata": {},
   "outputs": [],
   "source": [
    "# d = 'metropolitan_SOC_ARV_recharged'\n",
    "# print(dat['NoRehab'][d].sum(), dat['NoOwn'][d].sum(), dat['WithOwn'][d].sum())"
   ]
  },
  {
   "cell_type": "code",
   "execution_count": null,
   "id": "developing-president",
   "metadata": {},
   "outputs": [],
   "source": [
    "# [s for s in keys['WithOwn'] if 'SOC' in s.split('_')]# and s.split('_')[2]=='flow']\n"
   ]
  },
  {
   "cell_type": "code",
   "execution_count": null,
   "id": "jewish-discrimination",
   "metadata": {},
   "outputs": [],
   "source": [
    "# plt.plot(dat['NoOwn']['ARV_lowertule'])"
   ]
  },
  {
   "cell_type": "markdown",
   "id": "improving-eagle",
   "metadata": {},
   "source": [
    "## more fkc ownership scenarios - with all-access round afterwards"
   ]
  },
  {
   "cell_type": "code",
   "execution_count": null,
   "id": "abandoned-helen",
   "metadata": {},
   "outputs": [],
   "source": [
    "scenarios = ['baseline_wy2017', 'FKC_capacity_rehab_full']#, 'FKC_rehab_ownership_LWT']\n",
    "flows = {}\n",
    "turnouts = {}\n",
    "for s in scenarios:\n",
    "    dat = get_results_sensitivity_number_outside_model('results/' + s + '/results.hdf5', '')\n",
    "    keys = list(dat.keys())\n",
    "    b = [k for k in keys if ('fkc' in k.split('_')) and ('flow' in k.split('_'))]\n",
    "    flows[s] = dat.loc[:, b]\n",
    "    b = [k for k in keys if ('fkc' in k.split('_')) and ('turnout' in k.split('_'))]\n",
    "    turnouts[s] = dat.loc[:, b]"
   ]
  },
  {
   "cell_type": "code",
   "execution_count": null,
   "id": "eleven-washington",
   "metadata": {},
   "outputs": [],
   "source": [
    "figsize=(16,10)"
   ]
  },
  {
   "cell_type": "code",
   "execution_count": null,
   "id": "developed-fundamental",
   "metadata": {},
   "outputs": [],
   "source": [
    "index = flows['baseline_wy2017'].index\n",
    "year = index.year\n",
    "month = index.month\n",
    "doy = index.dayofyear\n",
    "dowy = (doy + (365-274)) % 365\n",
    "wy = [year[i] if month[i] < 10 else year[i] + 1 for i in range(len(year))]"
   ]
  },
  {
   "cell_type": "code",
   "execution_count": null,
   "id": "dramatic-perfume",
   "metadata": {
    "scrolled": false
   },
   "outputs": [],
   "source": [
    "### flow into FKC from millerton\n",
    "fig, axs = plt.subplots(2,1, figsize=figsize, sharex=True, gridspec_kw={'hspace':0.05})\n",
    "for i,s in enumerate(scenarios):\n",
    "    ax = axs[i]\n",
    "    ax.plot(flows[s]['fkc_COF_flow'])\n",
    "    ax.set_xlabel('Date')\n",
    "a = axs[0].set_ylabel('Flow (tAF/day)')"
   ]
  },
  {
   "cell_type": "code",
   "execution_count": null,
   "id": "published-faith",
   "metadata": {
    "scrolled": false
   },
   "outputs": [],
   "source": [
    "### flow into FKC from millerton\n",
    "fig, axs = plt.subplots(1,2, figsize=figsize, sharey=True, gridspec_kw={'wspace':0.05})\n",
    "for i,s in enumerate(scenarios):\n",
    "    ax = axs[i]\n",
    "    ax.scatter(dowy, flows[s]['fkc_COF_flow'], c=wy, alpha=0.1, cmap='viridis')\n",
    "    ax.set_xlabel('Day of water year')\n",
    "a = axs[0].set_ylabel('Flow (tAF/day)')"
   ]
  },
  {
   "cell_type": "code",
   "execution_count": null,
   "id": "determined-moore",
   "metadata": {
    "scrolled": false
   },
   "outputs": [],
   "source": [
    "### flow into LWT\n",
    "fig, axs = plt.subplots(1,2, figsize=figsize, sharey=True, gridspec_kw={'wspace':0.05})\n",
    "for i,s in enumerate(scenarios):\n",
    "    ax = axs[i]\n",
    "    ax.scatter(dowy, flows[s]['fkc_LWT_flow'], c=wy, alpha=0.1, cmap='viridis')\n",
    "    ax.set_xlabel('Day of water year')\n",
    "a = axs[0].set_ylabel('Flow (tAF/day)')"
   ]
  },
  {
   "cell_type": "code",
   "execution_count": null,
   "id": "anonymous-sapphire",
   "metadata": {
    "scrolled": false
   },
   "outputs": [],
   "source": [
    "### turnout at LWT\n",
    "fig, axs = plt.subplots(1,2, figsize=figsize, sharey=True, gridspec_kw={'wspace':0.05})\n",
    "for i,s in enumerate(scenarios):\n",
    "    ax = axs[i]\n",
    "    ax.scatter(dowy, turnouts[s]['fkc_LWT_turnout'], c=wy, alpha=0.1, cmap='viridis')\n",
    "    ax.set_xlabel('Day of water year')\n",
    "a = axs[0].set_ylabel('Flow (tAF/day)')"
   ]
  },
  {
   "cell_type": "code",
   "execution_count": null,
   "id": "cleared-strategy",
   "metadata": {},
   "outputs": [],
   "source": [
    "flowkeys = [k.split('_')[1] for k in flows[s].keys()]\n",
    "turnoutkeys = [k.split('_')[1] for k in turnouts[s].keys()]\n",
    "print(flowkeys)\n",
    "print(turnoutkeys)"
   ]
  },
  {
   "cell_type": "code",
   "execution_count": null,
   "id": "polish-bench",
   "metadata": {
    "scrolled": false
   },
   "outputs": [],
   "source": [
    "### flow along canal\n",
    "fig, axs = plt.subplots(1,2, figsize=figsize, sharey=True, gridspec_kw={'wspace':0.05})\n",
    "for i,s in enumerate(scenarios):\n",
    "    ax = axs[i]\n",
    "    for j,k in enumerate(flows[s]):\n",
    "        ax.scatter([j for _ in flows[s][k]], flows[s][k], c=wy, alpha=0.1, cmap='viridis')\n",
    "    ax.set_xlabel('Location along canal')\n",
    "    ax.set_xticks(np.arange(flows[s].shape[1]))\n",
    "    ax.set_xticklabels(flowkeys, rotation='vertical')\n",
    "a = axs[0].set_ylabel('Flow (tAF/day)')"
   ]
  },
  {
   "cell_type": "code",
   "execution_count": null,
   "id": "altered-guide",
   "metadata": {
    "scrolled": false
   },
   "outputs": [],
   "source": [
    "### turnouts along canal\n",
    "fig, axs = plt.subplots(1,2, figsize=figsize, sharey=True, gridspec_kw={'wspace':0.05})\n",
    "for i,s in enumerate(scenarios):\n",
    "    ax = axs[i]\n",
    "    for j,k in enumerate(turnouts[s]):\n",
    "        ax.scatter([j for _ in turnouts[s][k]], turnouts[s][k], c=wy, alpha=0.1, cmap='viridis')\n",
    "    ax.set_xlabel('Location along canal')\n",
    "    ax.set_xticks(np.arange(turnouts[s].shape[1]))\n",
    "    ax.set_xticklabels(turnoutkeys, rotation='vertical')\n",
    "a = axs[0].set_ylabel('Flow (tAF/day)')"
   ]
  },
  {
   "cell_type": "code",
   "execution_count": null,
   "id": "apart-designation",
   "metadata": {},
   "outputs": [],
   "source": [
    "### annual totals\n",
    "flowsums = {}\n",
    "turnoutsums = {}\n",
    "for s in scenarios:\n",
    "    flowsums[s] = flows[s].groupby(wy).sum()\n",
    "    turnoutsums[s] = turnouts[s].groupby(wy).sum()                "
   ]
  },
  {
   "cell_type": "code",
   "execution_count": null,
   "id": "funky-roots",
   "metadata": {},
   "outputs": [],
   "source": [
    "cmap = cm.get_cmap('RdBu')"
   ]
  },
  {
   "cell_type": "code",
   "execution_count": null,
   "id": "friendly-aluminum",
   "metadata": {
    "scrolled": false
   },
   "outputs": [],
   "source": [
    "### flow along canal, annual flow. color based on wet/dry year.\n",
    "fig, axs = plt.subplots(1,2, figsize=figsize, sharey=True, gridspec_kw={'wspace':0.05})\n",
    "for i,s in enumerate(scenarios):\n",
    "    ax = axs[i]\n",
    "    for j in range(flowsums[s].shape[0]):\n",
    "        flowfrac = flowsums[scenarios[1]]['fkc_COF_flow'].iloc[j] / flowsums[scenarios[1]]['fkc_COF_flow'].max()\n",
    "        ax.plot(flowsums[s].iloc[j,:], alpha=0.2, c=cmap(flowfrac))\n",
    "    ax.set_xlabel('Location along canal')\n",
    "    ax.set_xticks(np.arange(flowsums[s].shape[1]))\n",
    "    ax.set_xticklabels(flowkeys, rotation='vertical')\n",
    "a = axs[0].set_ylabel('Flow (tAF/wy)')"
   ]
  },
  {
   "cell_type": "code",
   "execution_count": null,
   "id": "particular-square",
   "metadata": {
    "scrolled": false
   },
   "outputs": [],
   "source": [
    "### turnouts along canal, annual flow. color based on wet/dry year.\n",
    "fig, axs = plt.subplots(1,2, figsize=figsize, sharey=True, gridspec_kw={'wspace':0.05})\n",
    "for i,s in enumerate(scenarios):\n",
    "    ax = axs[i]\n",
    "    for j in range(turnoutsums[s].shape[0]):\n",
    "        flowfrac = flowsums[scenarios[1]]['fkc_COF_flow'].iloc[j] / flowsums[scenarios[1]]['fkc_COF_flow'].max()\n",
    "        ax.plot(turnoutsums[s].iloc[j,:], alpha=0.2, c=cmap(flowfrac))\n",
    "    ax.set_xlabel('Location along canal')\n",
    "    ax.set_xticks(np.arange(turnoutsums[s].shape[1]))\n",
    "    ax.set_xticklabels(turnoutkeys, rotation='vertical')\n",
    "a = axs[0].set_ylabel('Flow (tAF/wy)')"
   ]
  },
  {
   "cell_type": "code",
   "execution_count": null,
   "id": "wired-handling",
   "metadata": {
    "scrolled": false
   },
   "outputs": [],
   "source": [
    "### difference between scenarios, turnouts along canal, annual flow. color based on total annual flow in fkc.\n",
    "fig, ax = plt.subplots(1,1,figsize=figsize)\n",
    "for j in range(turnoutsums[s].shape[0]):\n",
    "    flowfrac = flowsums[scenarios[1]]['fkc_COF_flow'].iloc[j] / flowsums[scenarios[1]]['fkc_COF_flow'].max()\n",
    "    ax.plot(turnoutsums[scenarios[1]].iloc[j,:] - turnoutsums[scenarios[0]].iloc[j,:], alpha=0.2, c=cmap(flowfrac))\n",
    "ax.set_xlabel('Location along canal')\n",
    "ax.set_xticks(np.arange(turnoutsums[s].shape[1]))\n",
    "ax.set_xticklabels(turnoutkeys, rotation='vertical')\n",
    "a = ax.set_ylabel('Flow (tAF/wy)')"
   ]
  },
  {
   "cell_type": "code",
   "execution_count": null,
   "id": "fatal-plymouth",
   "metadata": {},
   "outputs": [],
   "source": [
    "# scenarios = ['baseline_wy2017','FKC_capacity_rehab_full','FKC_rehab_ownership_LWT','FKC_rehab_ownership_PIX','FKC_rehab_ownership_DLE','FKC_rehab_ownership_SSJ','FKC_rehab_ownership_SOC','FKC_rehab_ownership_LWT_PIX_DLE_SSJ','FKC_rehab_ownership_LWT_PIX_DLE_SSJ_SOC']\n",
    "# flows = {}\n",
    "# turnouts = {}\n",
    "# for s in scenarios:\n",
    "#     dat = get_results_sensitivity_number_outside_model('results/' + s + '/results.hdf5', '')\n",
    "#     keys = list(dat.keys())\n",
    "#     b = [k for k in keys if ('fkc' in k.split('_')) and ('flow' in k.split('_'))]\n",
    "#     flows[s] = dat.loc[:, b]\n",
    "#     b = [k for k in keys if ('fkc' in k.split('_')) and ('turnout' in k.split('_'))]\n",
    "#     turnouts[s] = dat.loc[:, b]"
   ]
  },
  {
   "cell_type": "code",
   "execution_count": null,
   "id": "unknown-guitar",
   "metadata": {},
   "outputs": [],
   "source": [
    "# ### annual totals\n",
    "# flowsums = {}\n",
    "# turnoutsums = {}\n",
    "# for s in scenarios:\n",
    "#     flowsums[s] = flows[s].groupby(wy).sum()\n",
    "#     turnoutsums[s] = turnouts[s].groupby(wy).sum()                "
   ]
  },
  {
   "cell_type": "code",
   "execution_count": null,
   "id": "welcome-bouquet",
   "metadata": {
    "scrolled": false
   },
   "outputs": [],
   "source": [
    "# ### flow into FKC from millerton\n",
    "# fig, axs = plt.subplots(4,2, figsize=figsize, sharey=True, sharex=True, gridspec_kw={'wspace':0.05})\n",
    "# row = 0\n",
    "# col = 0\n",
    "# for i,s in enumerate(scenarios[1:]):\n",
    "#     ax = axs[row,col]\n",
    "#     ax.scatter(dowy, flows[s]['fkc_COF_flow'], c=wy, alpha=0.1, cmap='viridis')\n",
    "#     ax.set_xlabel('Day of water year')\n",
    "#     if col == 1:\n",
    "#         row += 1\n",
    "#         col = 0\n",
    "#     else:\n",
    "#         col += 1\n",
    "# # a = axs[].set_ylabel('Flow (tAF/day)')"
   ]
  },
  {
   "cell_type": "code",
   "execution_count": null,
   "id": "speaking-cleaners",
   "metadata": {
    "scrolled": false
   },
   "outputs": [],
   "source": [
    "# ### flow along canal, annual flow. color based on wet/dry year.\n",
    "# fig, axs = plt.subplots(4,2, figsize=figsize, sharey=True, sharex=True, gridspec_kw={'wspace':0.05})\n",
    "# row = 0\n",
    "# col = 0\n",
    "# for i,s in enumerate(scenarios[1:]):\n",
    "#     ax = axs[row,col]\n",
    "#     for j in range(flowsums[s].shape[0]):\n",
    "#         flowfrac = flowsums[scenarios[1]]['fkc_COF_flow'].iloc[j] / flowsums[scenarios[1]]['fkc_COF_flow'].max()\n",
    "#         ax.plot(flowsums[s].iloc[j,:], alpha=0.2, c=cmap(flowfrac))\n",
    "#     ax.set_title(s)\n",
    "#     if row == 3:\n",
    "#         ax.set_xlabel('Location along canal')\n",
    "#         ax.set_xticks(np.arange(flowsums[s].shape[1]))\n",
    "#         ax.set_xticklabels(flowkeys, rotation='vertical')\n",
    "#     if col == 1:\n",
    "#         row += 1\n",
    "#         col = 0\n",
    "#     else:\n",
    "#         col += 1    \n",
    "# # a = axs[0].set_ylabel('Flow (tAF/wy)')"
   ]
  },
  {
   "cell_type": "code",
   "execution_count": null,
   "id": "satellite-section",
   "metadata": {},
   "outputs": [],
   "source": [
    "# ### not sure why we have negative flow - something wrong\n",
    "# plt.plot(flows['FKC_rehab_ownership_LWT']['fkc_AEC_flow'])"
   ]
  },
  {
   "cell_type": "code",
   "execution_count": null,
   "id": "fuzzy-lyric",
   "metadata": {
    "scrolled": false
   },
   "outputs": [],
   "source": [
    "# ### flow along canal, annual flow. color based on wet/dry year.\n",
    "# fig, axs = plt.subplots(4,2, figsize=figsize, sharey=True, sharex=True, gridspec_kw={'wspace':0.05})\n",
    "# row = 0\n",
    "# col = 0\n",
    "# for i,s in enumerate(scenarios[1:]):\n",
    "#     ax = axs[row,col]\n",
    "#     for j in range(flowsums[s].shape[0]):\n",
    "#         flowfrac = flowsums[scenarios[1]]['fkc_COF_flow'].iloc[j] / flowsums[scenarios[1]]['fkc_COF_flow'].max()\n",
    "#         ax.plot(turnoutsums[s].iloc[j,:], alpha=0.2, c=cmap(flowfrac))\n",
    "# #         ax.plot(turnoutsums[scenarios[1]].iloc[j,:] - turnoutsums[scenarios[0]].iloc[j,:], alpha=0.2, c=cmap(flowfrac))\n",
    "#     ax.set_title(s)\n",
    "#     if row == 3:\n",
    "#         ax.set_xlabel('Location along canal')\n",
    "#         ax.set_xticks(np.arange(turnoutsums[s].shape[1]))\n",
    "#         ax.set_xticklabels(turnoutkeys, rotation='vertical')\n",
    "#     if col == 1:\n",
    "#         row += 1\n",
    "#         col = 0\n",
    "#     else:\n",
    "#         col += 1    \n",
    "# # a = axs[0].set_ylabel('Flow (tAF/wy)')"
   ]
  },
  {
   "cell_type": "code",
   "execution_count": null,
   "id": "isolated-brief",
   "metadata": {
    "scrolled": false
   },
   "outputs": [],
   "source": [
    "# ### flow along canal, annual flow. color based on wet/dry year.\n",
    "# fig, axs = plt.subplots(4,2, figsize=figsize, sharey=True, sharex=True, gridspec_kw={'wspace':0.05})\n",
    "# row = 0\n",
    "# col = 0\n",
    "# for i,s in enumerate(scenarios[1:]):\n",
    "#     ax = axs[row,col]\n",
    "#     for j in range(flowsums[s].shape[0]):\n",
    "#         flowfrac = flowsums[scenarios[1]]['fkc_COF_flow'].iloc[j] / flowsums[scenarios[1]]['fkc_COF_flow'].max()\n",
    "#         ax.plot(turnoutsums[s].iloc[j,:] - turnoutsums[scenarios[0]].iloc[j,:], alpha=0.2, c=cmap(flowfrac))\n",
    "# #         ax.plot(turnoutsums[scenarios[1]].iloc[j,:] - turnoutsums[scenarios[0]].iloc[j,:], alpha=0.2, c=cmap(flowfrac))\n",
    "#     ax.set_title(s)\n",
    "#     if row == 3:\n",
    "#         ax.set_xlabel('Location along canal')\n",
    "#         ax.set_xticks(np.arange(turnoutsums[s].shape[1]))\n",
    "#         ax.set_xticklabels(turnoutkeys, rotation='vertical')\n",
    "#     if col == 1:\n",
    "#         row += 1\n",
    "#         col = 0\n",
    "#     else:\n",
    "#         col += 1    "
   ]
  },
  {
   "cell_type": "code",
   "execution_count": null,
   "id": "alien-apple",
   "metadata": {},
   "outputs": [],
   "source": [
    "# ### annual turnout boxplots\n",
    "# fig, axs = plt.subplots(4,2, figsize=figsize, sharey=True, sharex=True, gridspec_kw={'wspace':0.05})\n",
    "# row = 0\n",
    "# col = 0\n",
    "# for i,s in enumerate(scenarios[1:]):\n",
    "#     ax = axs[row,col]\n",
    "#     ax.boxplot(turnoutsums[s] - turnoutsums[scenarios[0]])\n",
    "#     ax.set_title(s)\n",
    "#     if row == 3:\n",
    "#         ax.set_xlabel('Location along canal')\n",
    "#         ax.set_xticks(np.arange(turnoutsums[s].shape[1])+1)\n",
    "#         ax.set_xticklabels(turnoutkeys, rotation='vertical')\n",
    "#     if col == 1:\n",
    "#         row += 1\n",
    "#         col = 0\n",
    "#     else:\n",
    "#         col += 1    "
   ]
  },
  {
   "cell_type": "code",
   "execution_count": null,
   "id": "funny-management",
   "metadata": {},
   "outputs": [],
   "source": [
    "# [s for s in keys if 'irvineranch' in s.split('_')]"
   ]
  },
  {
   "cell_type": "code",
   "execution_count": null,
   "id": "organized-monroe",
   "metadata": {},
   "outputs": [],
   "source": [
    "# scenarios = ['baseline_wy2017','FKC_capacity_rehab_full','FKC_rehab_ownership_LWT','FKC_rehab_ownership_PIX','FKC_rehab_ownership_DLE','FKC_rehab_ownership_SSJ','FKC_rehab_ownership_SOC','FKC_rehab_ownership_LWT_PIX_DLE_SSJ','FKC_rehab_ownership_LWT_PIX_DLE_SSJ_SOC']\n",
    "# bankkeys = ['semitropic_MET', 'semitropic_SOB', 'rosedale_RRB','rosedale_ARV','rosedale_DLE','rosedale_CTL','rosedale_CCH',\n",
    "#              'rosedale_BVA', 'rosedale_SOC', 'rosedale_KRT', 'kwb_DLR', 'kwb_KCWA', 'kwb_ID4', 'kwb_SMI', 'kwb_TJC', 'kwb_WON',\n",
    "#             'kwb_WRM','pioneer_BLR', 'pioneer_BDM', 'pioneer_BVA', 'pioneer_HML', 'pioneer_ID4', 'pioneer_KCWA', 'pioneer_KND',\n",
    "#             'pioneer_LHL', 'pioneer_RRB', 'pioneer_SMI', 'pioneer_TJC', 'pioneer_WRM', 'arvin_ARV', 'arvin_MET', 'arvin_OXV',\n",
    "#             'arvin_LWT', 'arvin_KRT', 'arvin_PIX', 'northkernwb_NKN', 'northkernwb_CWO', 'northkernwb_DLE',\n",
    "#            'berrendawb_BLR', 'berrendawb_BDM', 'berrendawb_LHL', 'berrendawb_WRM', 'b2800_COB', 'b2800_BLR', 'b2800_BDM',\n",
    "#              'b2800_BVA', 'b2800_CWO', 'b2800_HML', 'b2800_ID4', 'b2800_KCWA', 'b2800_KND', 'b2800_LHL', 'b2800_RRB',\n",
    "#              'b2800_TJC', 'b2800_WRM', 'wkwb_WKN']\n",
    "# banking = {}\n",
    "# for s in scenarios:\n",
    "#     dat = get_results_sensitivity_number_outside_model('results/' + s + '/results.hdf5', '')\n",
    "#     banking[s] = dat.loc[:, bankkeys]"
   ]
  },
  {
   "cell_type": "code",
   "execution_count": null,
   "id": "ignored-hamilton",
   "metadata": {},
   "outputs": [],
   "source": [
    "# ### banking across scenarios\n",
    "# fig, axs = plt.subplots(4,2, figsize=figsize, sharey=True, sharex=True, gridspec_kw={'wspace':0.05})\n",
    "# row = 0\n",
    "# col = 0\n",
    "# for i,s in enumerate(scenarios[1:]):\n",
    "#     ax = axs[row,col]\n",
    "#     ax.set_title(s)\n",
    "#     for k in bankkeys:\n",
    "#         ax.plot(banking[s][k])\n",
    "#     if col == 1:\n",
    "#         row += 1\n",
    "#         col = 0\n",
    "#     else:\n",
    "#         col += 1"
   ]
  },
  {
   "cell_type": "code",
   "execution_count": null,
   "id": "dedicated-connectivity",
   "metadata": {},
   "outputs": [],
   "source": [
    "# ### banking relative to baseline_wy2017\n",
    "# fig, axs = plt.subplots(4,2, figsize=figsize, sharey=True, sharex=True, gridspec_kw={'wspace':0.05})\n",
    "# row = 0\n",
    "# col = 0\n",
    "# for i,s in enumerate(scenarios[1:]):\n",
    "#     ax = axs[row,col]\n",
    "#     ax.set_title(s)\n",
    "#     for k in bankkeys:\n",
    "#         ax.plot(banking[s][k] - banking[scenarios[0]][k], label=k)\n",
    "# #     ax.legend()\n",
    "#     if col == 1:\n",
    "#         row += 1\n",
    "#         col = 0\n",
    "#     else:\n",
    "#         col += 1"
   ]
  },
  {
   "cell_type": "code",
   "execution_count": null,
   "id": "sensitive-assistant",
   "metadata": {
    "scrolled": false
   },
   "outputs": [],
   "source": [
    "# ### change in banked water over 111 yrs\n",
    "# fig, axs = plt.subplots(4,2, figsize=figsize, sharey=True, sharex=True, gridspec_kw={'wspace':0.05})\n",
    "# row = 0\n",
    "# col = 0\n",
    "# for i,s in enumerate(scenarios[1:]):\n",
    "#     ax = axs[row,col]\n",
    "#     for j,k in enumerate(banking[s].columns):\n",
    "#         ax.scatter([j], [banking[s][k].iloc[-1] - banking[s][k].iloc[0]], c='k')\n",
    "#     ax.axhline(0, c='grey', ls=':')\n",
    "#     ax.set_title(s)\n",
    "#     if row == 3:\n",
    "#         ax.set_xlabel('Location along canal')\n",
    "#         ax.set_xticks(np.arange(banking[s].shape[1]))\n",
    "#         ax.set_xticklabels(bankkeys, rotation='vertical')\n",
    "#     if col == 1:\n",
    "#         row += 1\n",
    "#         col = 0\n",
    "#     else:\n",
    "#         col += 1  \n",
    "#         ax.set_ylabel('Banked (tAF)')"
   ]
  },
  {
   "cell_type": "code",
   "execution_count": null,
   "id": "secure-motel",
   "metadata": {
    "scrolled": false
   },
   "outputs": [],
   "source": [
    "# ### change in banked water over 111 yrs, relative to baseline_wy2017\n",
    "# fig, axs = plt.subplots(4,2, figsize=figsize, sharey=True, sharex=True, gridspec_kw={'wspace':0.05})\n",
    "# row = 0\n",
    "# col = 0\n",
    "# for i,s in enumerate(scenarios[1:]):\n",
    "#     ax = axs[row,col]\n",
    "#     for j,k in enumerate(banking[s].columns):\n",
    "#         ax.scatter([j], [(banking[s][k].iloc[-1] - banking[s][k].iloc[0]) - (banking[scenarios[0]][k].iloc[-1] - banking[scenarios[0]][k].iloc[0])], c='k')\n",
    "#     ax.axhline(0, c='grey', ls=':')\n",
    "#     ax.set_title(s)\n",
    "#     if row == 3:\n",
    "#         ax.set_xlabel('Location along canal')\n",
    "#         ax.set_xticks(np.arange(banking[s].shape[1]))\n",
    "#         ax.set_xticklabels(bankkeys, rotation='vertical')\n",
    "#     if col == 1:\n",
    "#         row += 1\n",
    "#         col = 0\n",
    "#     else:\n",
    "#         col += 1  \n",
    "#         ax.set_ylabel('Banked (tAF)')"
   ]
  },
  {
   "cell_type": "code",
   "execution_count": null,
   "id": "negative-bonus",
   "metadata": {},
   "outputs": [],
   "source": [
    "# banking[s].columns"
   ]
  },
  {
   "cell_type": "markdown",
   "id": "alone-peninsula",
   "metadata": {},
   "source": [
    "## more FKC ownership scenarios, with no all-access round"
   ]
  },
  {
   "cell_type": "code",
   "execution_count": null,
   "id": "increasing-telephone",
   "metadata": {},
   "outputs": [],
   "source": []
  },
  {
   "cell_type": "code",
   "execution_count": null,
   "id": "healthy-sustainability",
   "metadata": {},
   "outputs": [],
   "source": [
    "# scenarios = ['baseline_wy2017','FKC_capacity_rehab_full','FKC_rehab_ownership_grp1','FKC_rehab_ownership_none', 'baseline_wy2017','FKC_capacity_rehab_full','FKC_rehab_ownership_grp1','FKC_rehab_ownership_none','FKC_rehab_ownership_none']#,'FKC_rehab_ownership_grp3','FKC_rehab_ownership_grp12','FKC_rehab_ownership_grp13','FKC_rehab_ownership_bankees','FKC_rehab_ownership_none']\n",
    "scenarios = ['FKC_experiment_none', 'FKC_experiment_all', 'FKC_experiment_0', 'FKC_experiment_1', 'FKC_experiment_2', 'FKC_experiment_3', 'FKC_experiment_4', 'FKC_experiment_5']\n",
    "flows = {}\n",
    "turnouts = {}\n",
    "for s in scenarios:\n",
    "    dat = get_results_sensitivity_number_outside_model('results/' + s + '/results.hdf5', '')\n",
    "    keys = list(dat.keys())\n",
    "    b = [k for k in keys if ('fkc' in k.split('_')) and ('flow' in k.split('_'))]\n",
    "    flows[s] = dat.loc[:, b]\n",
    "    b = [k for k in keys if ('fkc' in k.split('_')) and ('turnout' in k.split('_'))]\n",
    "    turnouts[s] = dat.loc[:, b]"
   ]
  },
  {
   "cell_type": "code",
   "execution_count": null,
   "id": "signed-vinyl",
   "metadata": {},
   "outputs": [],
   "source": [
    "index = flows[scenarios[0]].index\n",
    "year = index.year\n",
    "month = index.month\n",
    "dom = index.day\n",
    "doy = index.dayofyear\n",
    "dowy = (doy + (365-274)) % 365\n",
    "wy = np.array([year[i] if month[i] < 10 else year[i] + 1 for i in range(len(year))])"
   ]
  },
  {
   "cell_type": "code",
   "execution_count": null,
   "id": "metallic-mercury",
   "metadata": {},
   "outputs": [],
   "source": [
    "figsize=(16,10)"
   ]
  },
  {
   "cell_type": "code",
   "execution_count": null,
   "id": "adaptive-entry",
   "metadata": {},
   "outputs": [],
   "source": [
    "### annual totals\n",
    "flowsums = {}\n",
    "turnoutsums = {}\n",
    "for s in scenarios:\n",
    "    flowsums[s] = flows[s].groupby(wy).sum()\n",
    "    turnoutsums[s] = turnouts[s].groupby(wy).sum()                "
   ]
  },
  {
   "cell_type": "code",
   "execution_count": null,
   "id": "duplicate-mortgage",
   "metadata": {},
   "outputs": [],
   "source": [
    "flowkeys = [k.split('_')[1] for k in flows[s].keys()]\n",
    "turnoutkeys = [k.split('_')[1] for k in turnouts[s].keys()]\n",
    "print(flowkeys)\n",
    "print(turnoutkeys)"
   ]
  },
  {
   "cell_type": "code",
   "execution_count": null,
   "id": "compound-detection",
   "metadata": {
    "scrolled": false
   },
   "outputs": [],
   "source": [
    "### flow into FKC from millerton\n",
    "fig, axs = plt.subplots(4,2, figsize=figsize, sharey=True, sharex=True, gridspec_kw={'wspace':0.05})\n",
    "row = 0\n",
    "col = 0\n",
    "for i,s in enumerate(scenarios):\n",
    "    ax = axs[row,col]\n",
    "    ax.scatter(dowy, flows[s]['fkc_COF_flow'], c=wy, alpha=0.1, cmap='viridis')\n",
    "    ax.set_title(s)\n",
    "    if row == 3:\n",
    "        ax.set_xlabel('Day of water year')\n",
    "    if col == 1:\n",
    "        row += 1\n",
    "        col = 0\n",
    "    else:\n",
    "        col += 1\n",
    "# a = axs[].set_ylabel('Flow (tAF/day)')"
   ]
  },
  {
   "cell_type": "code",
   "execution_count": null,
   "id": "brutal-prototype",
   "metadata": {},
   "outputs": [],
   "source": [
    "cmap = cm.get_cmap('RdBu')"
   ]
  },
  {
   "cell_type": "code",
   "execution_count": null,
   "id": "worth-transportation",
   "metadata": {
    "scrolled": false
   },
   "outputs": [],
   "source": [
    "### flow along canal, annual flow. color based on wet/dry year.\n",
    "fig, axs = plt.subplots(4,2, figsize=figsize, sharey=True, sharex=True, gridspec_kw={'wspace':0.05})\n",
    "row = 0\n",
    "col = 0\n",
    "for i,s in enumerate(scenarios):\n",
    "    ax = axs[row,col]\n",
    "    for j in range(flowsums[s].shape[0]):\n",
    "        flowfrac = flowsums[scenarios[1]]['fkc_COF_flow'].iloc[j] / flowsums[scenarios[1]]['fkc_COF_flow'].max()\n",
    "        ax.plot(flowsums[s].iloc[j,:], alpha=0.2, c=cmap(flowfrac))\n",
    "    ax.set_title(s)\n",
    "    if row == 3:\n",
    "        ax.set_xlabel('Location along canal')\n",
    "        ax.set_xticks(np.arange(flowsums[s].shape[1]))\n",
    "        ax.set_xticklabels(flowkeys, rotation='vertical')\n",
    "    if col == 1:\n",
    "        row += 1\n",
    "        col = 0\n",
    "    else:\n",
    "        col += 1    \n",
    "# a = axs[0].set_ylabel('Flow (tAF/wy)')"
   ]
  },
  {
   "cell_type": "code",
   "execution_count": null,
   "id": "industrial-coordinate",
   "metadata": {
    "scrolled": false
   },
   "outputs": [],
   "source": [
    "### flow along canal, annual flow. color based on wet/dry year.\n",
    "fig, axs = plt.subplots(4,2, figsize=figsize, sharey=True, sharex=True, gridspec_kw={'wspace':0.05})\n",
    "row = 0\n",
    "col = 0\n",
    "for i,s in enumerate(scenarios):\n",
    "    ax = axs[row,col]\n",
    "    for j in range(flowsums[s].shape[0]):\n",
    "        flowfrac = flowsums[scenarios[1]]['fkc_COF_flow'].iloc[j] / flowsums[scenarios[1]]['fkc_COF_flow'].max()\n",
    "        ax.plot(turnoutsums[s].iloc[j,:], alpha=0.2, c=cmap(flowfrac))\n",
    "#         ax.plot(turnoutsums[scenarios[1]].iloc[j,:] - turnoutsums[scenarios[0]].iloc[j,:], alpha=0.2, c=cmap(flowfrac))\n",
    "    ax.set_title(s)\n",
    "    if row == 3:\n",
    "        ax.set_xlabel('Location along canal')\n",
    "        ax.set_xticks(np.arange(turnoutsums[s].shape[1]))\n",
    "        ax.set_xticklabels(turnoutkeys, rotation='vertical')\n",
    "    if col == 1:\n",
    "        row += 1\n",
    "        col = 0\n",
    "    else:\n",
    "        col += 1    \n",
    "# a = axs[0].set_ylabel('Flow (tAF/wy)')"
   ]
  },
  {
   "cell_type": "code",
   "execution_count": null,
   "id": "canadian-hypothesis",
   "metadata": {
    "scrolled": false
   },
   "outputs": [],
   "source": [
    "### flow along canal, annual flow. color based on wet/dry year.\n",
    "fig, axs = plt.subplots(4,2, figsize=figsize, sharey=True, sharex=True, gridspec_kw={'wspace':0.05})\n",
    "row = 0\n",
    "col = 0\n",
    "for i,s in enumerate(scenarios):\n",
    "    ax = axs[row,col]\n",
    "    for j in range(flowsums[s].shape[0]):\n",
    "        flowfrac = flowsums[scenarios[1]]['fkc_COF_flow'].iloc[j] / flowsums[scenarios[1]]['fkc_COF_flow'].max()\n",
    "        ax.plot(turnoutsums[s].iloc[j,:] - turnoutsums[scenarios[0]].iloc[j,:], alpha=0.2, c=cmap(flowfrac))\n",
    "#         ax.plot(turnoutsums[scenarios[1]].iloc[j,:] - turnoutsums[scenarios[0]].iloc[j,:], alpha=0.2, c=cmap(flowfrac))\n",
    "    ax.set_title(s)\n",
    "    if row == 3:\n",
    "        ax.set_xlabel('Location along canal')\n",
    "        ax.set_xticks(np.arange(turnoutsums[s].shape[1]))\n",
    "        ax.set_xticklabels(turnoutkeys, rotation='vertical')\n",
    "    if col == 1:\n",
    "        row += 1\n",
    "        col = 0\n",
    "    else:\n",
    "        col += 1    "
   ]
  },
  {
   "cell_type": "code",
   "execution_count": null,
   "id": "unnecessary-birmingham",
   "metadata": {},
   "outputs": [],
   "source": [
    "bars = []\n",
    "stds = []\n",
    "for s in scenarios[1:]:\n",
    "    bars.append((turnoutsums[s] - turnoutsums[scenarios[0]]).sum(axis=1).mean())\n",
    "    stds.append((turnoutsums[s] - turnoutsums[scenarios[0]]).sum(axis=1).std())"
   ]
  },
  {
   "cell_type": "code",
   "execution_count": null,
   "id": "fantastic-commercial",
   "metadata": {},
   "outputs": [],
   "source": [
    "f = plt.bar(np.arange(len(bars)), bars, yerr=stds)\n",
    "_ = plt.xticks(np.arange(len(bars)), scenarios[1:], rotation=90)\n",
    "_ = plt.ylabel('Annual improvement (tAF/yr)')"
   ]
  },
  {
   "cell_type": "markdown",
   "id": "iraqi-summary",
   "metadata": {},
   "source": [
    "## Objective formulation"
   ]
  },
  {
   "cell_type": "code",
   "execution_count": null,
   "id": "monthly-jungle",
   "metadata": {},
   "outputs": [],
   "source": [
    "shares = {}\n",
    "for s in scenarios[2:]:\n",
    "    shares[s] = json.load(open('results/' + s + '/FKC_scenario.json'))['ownership_shares']\n",
    "#     print(shares)"
   ]
  },
  {
   "cell_type": "code",
   "execution_count": null,
   "id": "prerequisite-serve",
   "metadata": {},
   "outputs": [],
   "source": [
    "district_lookup = {\n",
    "    'BDM': 'berrenda',\n",
    "    'BLR': 'belridge',\n",
    "    'BVA': 'buenavista',\n",
    "    'CWO': 'cawelo',\n",
    "    'HML': 'henrymiller',\n",
    "    'ID4': 'ID4',\n",
    "    'KND': 'kerndelta',\n",
    "    'LHL': 'losthills',\n",
    "    'RRB': 'rosedale',\n",
    "    'SMI': 'semitropic',\n",
    "    'THC': 'tehachapi',\n",
    "    'TJC': 'tejon',\n",
    "    'WKN': 'westkern',\n",
    "    'WRM': 'wheeler',\n",
    "    'KCWA': 'kcwa',\n",
    "    'COB': 'bakersfield',\n",
    "    'NKN': 'northkern',\n",
    "    'ARV': 'arvin',\n",
    "    'PIX': 'pixley',\n",
    "    'DLE': 'delano',\n",
    "    'EXE': 'exeter',\n",
    "    'KRT': 'kerntulare',\n",
    "    'LND': 'lindmore',\n",
    "    'LDS': 'lindsay',\n",
    "    'LWT': 'lowertule',\n",
    "    'PRT': 'porterville',\n",
    "    'SAU': 'saucelito',\n",
    "    'SFW': 'shaffer',\n",
    "    'SSJ': 'sosanjoaquin',\n",
    "    'TPD': 'teapot',\n",
    "    'TBA': 'terra',\n",
    "    'TUL': 'tulare',\n",
    "    'COF': 'fresno',\n",
    "    'FRS': 'fresnoid',\n",
    "    'SOC': 'socal',\n",
    "    'SOB': 'southbay',\n",
    "    'CCA': 'centralcoast',\n",
    "    'DLR': 'dudleyridge',\n",
    "    'TLB': 'tularelake',\n",
    "    'KWD': 'kaweahdelta',\n",
    "    'WSL': 'westlands',\n",
    "    'SNL': 'sanluiswater',\n",
    "    'PNC': 'panoche',\n",
    "    'DLP': 'delpuerto',\n",
    "    'CWC': 'chowchilla',\n",
    "    'MAD': 'madera',\n",
    "    'OTL': 'othertule',\n",
    "    'OFK': 'otherfriant',\n",
    "    'OCD': 'othercvp',\n",
    "    'OEX': 'otherexchange',\n",
    "    'OXV': 'othercrossvalley',\n",
    "    'OSW': 'otherswp',\n",
    "    'CNS': 'consolidated',\n",
    "    'ALT': 'alta',\n",
    "    'KRWA': 'krwa'\n",
    "}"
   ]
  },
  {
   "cell_type": "code",
   "execution_count": null,
   "id": "union-labor",
   "metadata": {},
   "outputs": [],
   "source": [
    "districts = {}\n",
    "for i, s in enumerate(scenarios):\n",
    "    districts[s] = {}\n",
    "    dat = get_results_sensitivity_number_outside_model('results/' + s + '/results.hdf5', '')\n",
    "    keys = list(dat.keys())\n",
    "    for d, v in district_lookup.items():\n",
    "        b = [k for k in keys if (((d in k.split('_')) or (v in k.split('_'))) and (('delivery' in k.split('_')) or ('flood' in k.split('_')) or ('recharged' in k.split('_')) or ('exchanged' in k.split('_')) or ('inleiu' in k.split('_')) or ('peiupumping' in k.split('_')) or ('banked' in k.split('_'))))]\n",
    "        df = dat.loc[:, b]\n",
    "        ## undo summation over years\n",
    "        for y in range(df.index.year.min() + 2, df.index.year.max() + 1):\n",
    "            maxprevious = df.loc[wy < y, :].iloc[-1, :]\n",
    "            df.loc[wy == y, :] += maxprevious\n",
    "        districts[s][d] = df.diff()\n",
    "    del dat, df\n",
    "    \n",
    "#         try:\n",
    "#             if i < 2:\n",
    "#                 use_district = 1\n",
    "#             else:\n",
    "#                 if shares[s][d] > 0.0:\n",
    "#                     use_district = 1\n",
    "#                 else:\n",
    "#                     use_district = 0\n",
    "#             if use_district == 1:\n",
    "#                 b = [k for k in keys if (((d in k.split('_')) or (v in k.split('_'))) and (('delivery' in k.split('_')) or ('flood' in k.split('_')) or ('recharged' in k.split('_')) or ('exchanged' in k.split('_')) or ('inleiu' in k.split('_')) or ('peiupumping' in k.split('_')) or ('banked' in k.split('_'))))]\n",
    "#                 df = dat.loc[:, b]\n",
    "#                 ## undo summation over years\n",
    "#                 for y in range(df.index.year.min() + 2, df.index.year.max() + 1):\n",
    "#                     maxprevious = df.loc[wy < y, :].iloc[-1, :]\n",
    "#                     df.loc[wy == y, :] += maxprevious\n",
    "#                 districts[s][d] = df.diff()\n",
    "#         except:\n",
    "#             pass    "
   ]
  },
  {
   "cell_type": "code",
   "execution_count": null,
   "id": "sufficient-viking",
   "metadata": {},
   "outputs": [],
   "source": [
    "districts[s]['BVA'].columns"
   ]
  },
  {
   "cell_type": "code",
   "execution_count": null,
   "id": "defensive-gather",
   "metadata": {},
   "outputs": [],
   "source": [
    "def total_deliveries(df):\n",
    "    df['total_deliveries'] = 0.0\n",
    "    for (wtype, position) in [('delivery', 2), ('flood', 2), ('recover', 1)]:\n",
    "        for c in df.columns:\n",
    "            try:\n",
    "                if c.split('_')[position] == wtype:\n",
    "                    df['total_deliveries'] += df[c]\n",
    "            except:\n",
    "                pass"
   ]
  },
  {
   "cell_type": "code",
   "execution_count": null,
   "id": "hazardous-representation",
   "metadata": {},
   "outputs": [],
   "source": [
    "for s in scenarios:\n",
    "    for k in districts[s]:\n",
    "        total_deliveries(districts[s][k])"
   ]
  },
  {
   "cell_type": "code",
   "execution_count": null,
   "id": "grand-pollution",
   "metadata": {},
   "outputs": [],
   "source": [
    "s=scenarios[3]\n",
    "days = 365*10\n",
    "plt.figure(figsize=figsize)\n",
    "for k in districts[s]:\n",
    "    y = districts[s][k]['total_deliveries'] - districts[scenarios[0]][k]['total_deliveries']\n",
    "    if y.sum() > 10:\n",
    "        plt.plot(y, label=k)\n",
    "# plt.plot(districts[s]['CWO']['total_deliveries'].iloc[:days] - districts[scenarios[0]]['CWO']['total_deliveries'].iloc[:days], label=k)\n",
    "\n",
    "plt.legend()"
   ]
  },
  {
   "cell_type": "code",
   "execution_count": null,
   "id": "adapted-peeing",
   "metadata": {},
   "outputs": [],
   "source": [
    "days = 365*10\n",
    "plt.figure(figsize=figsize)\n",
    "for k in ['LDS']:\n",
    "    plt.plot(districts[s][k]['total_deliveries'].iloc[:days], alpha=0.5, label=k + ' new')\n",
    "    plt.plot(districts[scenarios[0]][k]['total_deliveries'].iloc[:days], alpha=0.5, label=k + ' old')\n",
    "    \n",
    "plt.legend()"
   ]
  },
  {
   "cell_type": "code",
   "execution_count": null,
   "id": "brave-abraham",
   "metadata": {},
   "outputs": [],
   "source": [
    "(districts[s]['CWO']['total_deliveries'].iloc[:days] - districts[scenarios[0]]['CWO']['total_deliveries'].iloc[:days]).sum()"
   ]
  },
  {
   "cell_type": "code",
   "execution_count": null,
   "id": "beneficial-diversity",
   "metadata": {},
   "outputs": [],
   "source": [
    "districts[scenarios[5]].keys()"
   ]
  },
  {
   "cell_type": "code",
   "execution_count": null,
   "id": "tight-medicaid",
   "metadata": {},
   "outputs": [],
   "source": [
    "d = 'CWO'\n",
    "nrow=9\n",
    "ncol=3\n",
    "fig, axs = plt.subplots(nrow, ncol, sharex=True, sharey=True, figsize=figsize, gridspec_kw={'wspace':0.05})\n",
    "row = 0\n",
    "col = 0  \n",
    "for i,k in enumerate(districts[s][d]):\n",
    "    ax = axs[row,col]\n",
    "    try:\n",
    "        ax.plot(districts[s][d][k] - districts[scenarios[0]][d][k], label=k)\n",
    "    except:\n",
    "        ax.plot(districts[s][d][k], label=k)\n",
    "        \n",
    "    ax.set_title(k)\n",
    "    if row == nrow-1:\n",
    "        ax.set_xlabel('Location along canal')\n",
    "#         ax.set_xticks(np.arange(turnoutsums[s].shape[1]))\n",
    "#         ax.set_xticklabels(turnoutkeys, rotation='vertical')\n",
    "    if col == ncol-1:\n",
    "        row += 1\n",
    "        col = 0\n",
    "    else:\n",
    "        col += 1         \n"
   ]
  },
  {
   "cell_type": "code",
   "execution_count": null,
   "id": "passive-weapon",
   "metadata": {},
   "outputs": [],
   "source": [
    "### get annual results\n",
    "districts_wy = {}\n",
    "for s in scenarios:\n",
    "    districts_wy[s] = {}\n",
    "    for d in districts[s]:\n",
    "        districts_wy[s][d] = districts[s][d].groupby(wy).sum()"
   ]
  },
  {
   "cell_type": "code",
   "execution_count": null,
   "id": "signed-causing",
   "metadata": {},
   "outputs": [],
   "source": [
    "wy_agg = np.arange(1906, 2017)\n",
    "district_keys = list(districts[scenarios[1]].keys())\n",
    "nd = len(district_keys)"
   ]
  },
  {
   "cell_type": "code",
   "execution_count": null,
   "id": "developing-format",
   "metadata": {
    "scrolled": false
   },
   "outputs": [],
   "source": [
    "### annual deliveries for each district (difference from \"none\" scenario)\n",
    "fig, axs = plt.subplots(4,2, figsize=figsize, sharey=True, sharex=True, gridspec_kw={'wspace':0.05})\n",
    "row = 0\n",
    "col = 0\n",
    "for i,s in enumerate(scenarios):\n",
    "    ax = axs[row,col]\n",
    "    for j,k in enumerate(districts_wy[s]):\n",
    "        flowfrac = flowsums[scenarios[1]]['fkc_COF_flow'] / flowsums[scenarios[1]]['fkc_COF_flow'].max()\n",
    "        try:\n",
    "            cmap = 'Blues' if shares[s][k] > 0.0 else 'Reds'\n",
    "        except:\n",
    "            cmap = 'Reds'\n",
    "        sns.scatterplot(x=[j for _ in wy_agg], y=districts_wy[s][k]['total_deliveries'].values - districts_wy[scenarios[0]][k]['total_deliveries'].values, hue=flowfrac, hue_norm=(0,1), palette=cmap, legend=False, alpha=0.7, ax=ax)\n",
    "    ax.set_title(s)\n",
    "    if row == 3:\n",
    "        ax.set_xlabel('District')\n",
    "        ax.set_xticks(np.arange(nd))\n",
    "        ax.set_xticklabels(district_keys, rotation='vertical')\n",
    "    if col == 1:\n",
    "        row += 1\n",
    "        col = 0\n",
    "    else:\n",
    "        col += 1    "
   ]
  },
  {
   "cell_type": "code",
   "execution_count": null,
   "id": "unlimited-vitamin",
   "metadata": {},
   "outputs": [],
   "source": [
    "### get objectives\n",
    "objs_districts = {}\n",
    "for s in scenarios:\n",
    "    objs_districts[s] = {}\n",
    "    for d in district_keys:\n",
    "        objs_districts[s][d] = {}\n",
    "        objs_districts[s][d]['exp_gain'] = (districts_wy[s][d]['total_deliveries'] - districts_wy[scenarios[0]][d]['total_deliveries']).mean()\n",
    "        objs_districts[s][d]['std_gain'] = (districts_wy[s][d]['total_deliveries'] - districts_wy[scenarios[0]][d]['total_deliveries']).std()\n",
    "        objs_districts[s][d]['exp_del'] = (districts_wy[s][d]['total_deliveries']).mean()\n",
    "        objs_districts[s][d]['std_del'] = (districts_wy[s][d]['total_deliveries']).std()       "
   ]
  },
  {
   "cell_type": "code",
   "execution_count": null,
   "id": "innocent-facility",
   "metadata": {
    "scrolled": false
   },
   "outputs": [],
   "source": [
    "### total expected gain per year for each district (difference from \"none\" scenario)\n",
    "fig, axs = plt.subplots(4,2, figsize=figsize, sharey=True, sharex=True, gridspec_kw={'wspace':0.05})\n",
    "row = 0\n",
    "col = 0\n",
    "for i,s in enumerate(scenarios):\n",
    "    ax = axs[row,col]\n",
    "    for j,k in enumerate(districts_wy[s]):\n",
    "        flowfrac = flowsums[scenarios[1]]['fkc_COF_flow'] / flowsums[scenarios[1]]['fkc_COF_flow'].max()\n",
    "        try:\n",
    "            cmap = 'Blues' if shares[s][k] > 0.0 else 'Reds'\n",
    "        except:\n",
    "            cmap = 'Reds'\n",
    "        sns.scatterplot(x=[j], y=[objs_districts[s][k]['exp_gain']], hue=0.8, hue_norm=(0,1), palette=cmap, legend=False, alpha=0.7, ax=ax)\n",
    "        sns.lineplot(x=[j, j], y=[objs_districts[s][k]['exp_gain'] + objs_districts[s][k]['std_gain'], objs_districts[s][k]['exp_gain'] - objs_districts[s][k]['std_gain']], hue=0.8, hue_norm=(0,1), palette=cmap, legend=False, alpha=0.7, ax=ax)\n",
    "    ax.set_title(s)\n",
    "    if row == 3:\n",
    "        ax.set_xlabel('District')\n",
    "        ax.set_xticks(np.arange(nd))\n",
    "        ax.set_xticklabels(district_keys, rotation='vertical')\n",
    "    if col == 1:\n",
    "        row += 1\n",
    "        col = 0\n",
    "    else:\n",
    "        col += 1    "
   ]
  },
  {
   "cell_type": "markdown",
   "id": "local-simpson",
   "metadata": {},
   "source": [
    "## look at different water bank scenarios"
   ]
  },
  {
   "cell_type": "code",
   "execution_count": null,
   "id": "understanding-attitude",
   "metadata": {},
   "outputs": [],
   "source": [
    "# scenarios = ['baseline_wy2017','FKC_capacity_rehab_full','FKC_rehab_ownership_grp1','FKC_rehab_ownership_none', 'baseline_wy2017','FKC_capacity_rehab_full','FKC_rehab_ownership_grp1','FKC_rehab_ownership_none','FKC_rehab_ownership_none']#,'FKC_rehab_ownership_grp3','FKC_rehab_ownership_grp12','FKC_rehab_ownership_grp13','FKC_rehab_ownership_bankees','FKC_rehab_ownership_none']\n",
    "scenarios = ['NFWB_zero_ownership_LWT90_PIX10', 'NFWB_small_ownership_LWT90_PIX10', 'NFWB_large_ownership_LWT90_PIX10']\n",
    "# scenarios = ['NFWB_large_ownership_LWT90_PIX10']\n",
    "flows = {}\n",
    "turnouts = {}\n",
    "for s in scenarios:\n",
    "    dat = get_results_sensitivity_number_outside_model('results/' + s + '/results.hdf5', '')\n",
    "    keys = list(dat.keys())\n",
    "    b = [k for k in keys if ('fkc' in k.split('_')) and ('flow' in k.split('_'))]\n",
    "    flows[s] = dat.loc[:, b]\n",
    "    b = [k for k in keys if ('fkc' in k.split('_')) and ('turnout' in k.split('_'))]\n",
    "    turnouts[s] = dat.loc[:, b]"
   ]
  },
  {
   "cell_type": "code",
   "execution_count": null,
   "id": "designing-store",
   "metadata": {},
   "outputs": [],
   "source": [
    "index = flows[scenarios[0]].index\n",
    "year = index.year\n",
    "month = index.month\n",
    "dom = index.day\n",
    "doy = index.dayofyear\n",
    "dowy = (doy + (365-274)) % 365\n",
    "wy = np.array([year[i] if month[i] < 10 else year[i] + 1 for i in range(len(year))])"
   ]
  },
  {
   "cell_type": "code",
   "execution_count": null,
   "id": "practical-cinema",
   "metadata": {},
   "outputs": [],
   "source": [
    "figsize=(16,10)"
   ]
  },
  {
   "cell_type": "code",
   "execution_count": null,
   "id": "greatest-lover",
   "metadata": {},
   "outputs": [],
   "source": [
    "cmap = cm.get_cmap('RdBu')"
   ]
  },
  {
   "cell_type": "code",
   "execution_count": null,
   "id": "alternate-helping",
   "metadata": {},
   "outputs": [],
   "source": [
    "### annual totals\n",
    "flowsums = {}\n",
    "turnoutsums = {}\n",
    "for s in scenarios:\n",
    "    flowsums[s] = flows[s].groupby(wy).sum()\n",
    "    turnoutsums[s] = turnouts[s].groupby(wy).sum()                "
   ]
  },
  {
   "cell_type": "code",
   "execution_count": null,
   "id": "alone-finland",
   "metadata": {},
   "outputs": [],
   "source": [
    "flowkeys = [k.split('_')[1] for k in flows[s].keys()]\n",
    "turnoutkeys = [k.split('_')[1] for k in turnouts[s].keys()]\n",
    "print(flowkeys)\n",
    "print(turnoutkeys)"
   ]
  },
  {
   "cell_type": "code",
   "execution_count": null,
   "id": "breathing-envelope",
   "metadata": {
    "scrolled": false
   },
   "outputs": [],
   "source": [
    "### flow into FKC from millerton\n",
    "fig, axs = plt.subplots(4,2, figsize=figsize, sharey=True, sharex=True, gridspec_kw={'wspace':0.05})\n",
    "row = 0\n",
    "col = 0\n",
    "for i,s in enumerate(scenarios):\n",
    "    ax = axs[row,col]\n",
    "    try:\n",
    "        ax.scatter(dowy, turnouts[s]['fkc_NFWB_turnout'], c=wy, alpha=0.1, cmap='viridis')\n",
    "    except:\n",
    "        ax.scatter(dowy, turnouts[s]['fkc_LWT_turnout']*0.0, c=wy, alpha=0.1, cmap='viridis')\n",
    "        \n",
    "    ax.set_title(s)\n",
    "    if row == 3:\n",
    "        ax.set_xlabel('Day of water year')\n",
    "    if col == 1:\n",
    "        row += 1\n",
    "        col = 0\n",
    "    else:\n",
    "        col += 1\n",
    "# a = axs[].set_ylabel('Flow (tAF/day)')"
   ]
  },
  {
   "cell_type": "code",
   "execution_count": null,
   "id": "fallen-purpose",
   "metadata": {},
   "outputs": [],
   "source": []
  },
  {
   "cell_type": "code",
   "execution_count": null,
   "id": "remarkable-wisconsin",
   "metadata": {
    "scrolled": false
   },
   "outputs": [],
   "source": [
    "### flow along canal, annual flow. color based on wet/dry year.\n",
    "fig, axs = plt.subplots(2,2, figsize=figsize, sharey=True, sharex=True, gridspec_kw={'wspace':0.05})\n",
    "row = 0\n",
    "col = 0\n",
    "for i,s in enumerate(scenarios):\n",
    "    ax = axs[row,col]\n",
    "    for j in range(flowsums[s].shape[0]):\n",
    "        flowfrac = flowsums[scenarios[0]]['fkc_NFWB_flow'].iloc[j] / flowsums[scenarios[0]]['fkc_NFWB_flow'].max()\n",
    "#         y = turnoutsums[s].iloc[j, :]\n",
    "        y = np.zeros(len(turnoutkeys))\n",
    "        if i > 0:\n",
    "            y[0] = turnoutsums[s].iloc[j, 0]\n",
    "            y[1:] = turnoutsums[s].iloc[j, 1:] - turnoutsums[scenarios[0]].iloc[j,:]\n",
    "        ax.plot(np.arange(len(turnoutkeys)), y, alpha=0.2, c=cmap(flowfrac))\n",
    "                    \n",
    "#         ax.plot(turnoutsums[scenarios[1]].iloc[j,:] - turnoutsums[scenarios[0]].iloc[j,:], alpha=0.2, c=cmap(flowfrac))\n",
    "    ax.set_title(s)\n",
    "    if row == 1:\n",
    "        ax.set_xlabel('Location along canal')\n",
    "        ax.set_xticks(np.arange(len(turnoutkeys)))\n",
    "        ax.set_xticklabels(turnoutkeys, rotation='vertical')\n",
    "    if col == 1:\n",
    "        row += 1\n",
    "        col = 0\n",
    "    else:\n",
    "        col += 1    "
   ]
  },
  {
   "cell_type": "code",
   "execution_count": null,
   "id": "proved-butterfly",
   "metadata": {},
   "outputs": [],
   "source": [
    "dat = get_results_sensitivity_number_outside_model('results/NFWB_small_ownership_LWT90_PIX10/results.hdf5', '')"
   ]
  },
  {
   "cell_type": "code",
   "execution_count": null,
   "id": "floral-mineral",
   "metadata": {
    "scrolled": false
   },
   "outputs": [],
   "source": [
    "[k for k in dat.columns if 'northfriantwb' in k.split('_')]"
   ]
  },
  {
   "cell_type": "code",
   "execution_count": null,
   "id": "familiar-orlando",
   "metadata": {
    "scrolled": false
   },
   "outputs": [],
   "source": [
    "### flow along canal, annual flow. color based on wet/dry year.\n",
    "fig, ax = plt.subplots(1,1, figsize=figsize, sharey=True, sharex=True, gridspec_kw={'wspace':0.05})\n",
    "for k in [k for k in dat.columns if 'northfriantwb' in k.split('_')]:\n",
    "    plt.plot(dat[k], label=k)\n",
    "plt.legend()"
   ]
  },
  {
   "cell_type": "markdown",
   "id": "ecological-referral",
   "metadata": {},
   "source": [
    "## scratch"
   ]
  },
  {
   "cell_type": "code",
   "execution_count": null,
   "id": "mexican-product",
   "metadata": {},
   "outputs": [],
   "source": [
    "figsize=(16,10)\n",
    "dat = get_results_sensitivity_number_outside_model('results/FKC_experiment_2_FKC_NFWB/results.hdf5', '')"
   ]
  },
  {
   "cell_type": "code",
   "execution_count": null,
   "id": "bibliographic-contract",
   "metadata": {},
   "outputs": [],
   "source": [
    "k = [k for k in dat.columns if 'northfriantwb' in k.split('_')]"
   ]
  },
  {
   "cell_type": "code",
   "execution_count": null,
   "id": "capable-elephant",
   "metadata": {},
   "outputs": [],
   "source": [
    "### flow along canal, annual flow. color based on wet/dry year.\n",
    "fig, ax = plt.subplots(1,1, figsize=figsize, sharey=True, sharex=True, gridspec_kw={'wspace':0.05})\n",
    "for k in [k for k in dat.columns if 'northfriantwb' in k.split('_')]:\n",
    "#     print(k, dat[k].max())\n",
    "        plt.plot(dat[k], label=k)\n",
    "#     if k=='SOB':\n",
    "#         plt.plot(dat[k], label=k, c='k')\n",
    "plt.legend()"
   ]
  },
  {
   "cell_type": "code",
   "execution_count": null,
   "id": "smooth-sunday",
   "metadata": {},
   "outputs": [],
   "source": [
    "### flow along canal, annual flow. color based on wet/dry year.\n",
    "for k in [k for k in dat.columns if 'northfriantwb' in k.split('_')]:\n",
    "    print(k, dat[k].max())\n"
   ]
  },
  {
   "cell_type": "markdown",
   "id": "conventional-yacht",
   "metadata": {},
   "source": [
    "## 20x3 FKC/NFWB experiment"
   ]
  },
  {
   "cell_type": "code",
   "execution_count": null,
   "id": "yellow-kruger",
   "metadata": {},
   "outputs": [],
   "source": [
    "scenarios = ['FKC_experiment_none']\n",
    "for i in range(20):\n",
    "    scenarios.append('FKC_experiment_'+str(i)+'_FKC_NFWB')\n",
    "for i in range(20):\n",
    "    scenarios.append('FKC_experiment_'+str(i)+'_FKC')\n",
    "for i in range(20):\n",
    "    scenarios.append('FKC_experiment_'+str(i)+'_NFWB')"
   ]
  },
  {
   "cell_type": "code",
   "execution_count": null,
   "id": "surprised-phenomenon",
   "metadata": {},
   "outputs": [],
   "source": [
    "figsize=(16,10)"
   ]
  },
  {
   "cell_type": "code",
   "execution_count": null,
   "id": "foreign-reduction",
   "metadata": {},
   "outputs": [],
   "source": [
    "cmap = cm.get_cmap('RdBu')"
   ]
  },
  {
   "cell_type": "code",
   "execution_count": null,
   "id": "fabulous-blind",
   "metadata": {},
   "outputs": [],
   "source": [
    "scenarios"
   ]
  },
  {
   "cell_type": "code",
   "execution_count": null,
   "id": "blank-discretion",
   "metadata": {},
   "outputs": [],
   "source": [
    "shares = {}\n",
    "for s in scenarios:\n",
    "    shares[s] = json.load(open('results/' + s + '/FKC_scenario.json'))['ownership_shares']\n",
    "    shares_NFWB = json.load(open('results/' + s + '/NFWB_scenario.json'))['ownership']\n",
    "    for k in shares[s]:\n",
    "        try:\n",
    "            shares[s][k] = max(shares[s][k], shares_NFWB[k])\n",
    "        except:\n",
    "            pass"
   ]
  },
  {
   "cell_type": "code",
   "execution_count": null,
   "id": "dirty-bench",
   "metadata": {},
   "outputs": [],
   "source": [
    "district_lookup = {\n",
    "    'BDM': 'berrenda',\n",
    "    'BLR': 'belridge',\n",
    "    'BVA': 'buenavista',\n",
    "    'CWO': 'cawelo',\n",
    "    'HML': 'henrymiller',\n",
    "    'ID4': 'ID4',\n",
    "    'KND': 'kerndelta',\n",
    "    'LHL': 'losthills',\n",
    "    'RRB': 'rosedale',\n",
    "    'SMI': 'semitropic',\n",
    "    'THC': 'tehachapi',\n",
    "    'TJC': 'tejon',\n",
    "    'WKN': 'westkern',\n",
    "    'WRM': 'wheeler',\n",
    "    'KCWA': 'kcwa',\n",
    "    'COB': 'bakersfield',\n",
    "    'NKN': 'northkern',\n",
    "    'ARV': 'arvin',\n",
    "    'PIX': 'pixley',\n",
    "    'DLE': 'delano',\n",
    "    'EXE': 'exeter',\n",
    "    'KRT': 'kerntulare',\n",
    "    'LND': 'lindmore',\n",
    "    'LDS': 'lindsay',\n",
    "    'LWT': 'lowertule',\n",
    "    'PRT': 'porterville',\n",
    "    'SAU': 'saucelito',\n",
    "    'SFW': 'shaffer',\n",
    "    'SSJ': 'sosanjoaquin',\n",
    "    'TPD': 'teapot',\n",
    "    'TBA': 'terra',\n",
    "    'TUL': 'tulare',\n",
    "    'COF': 'fresno',\n",
    "    'FRS': 'fresnoid',\n",
    "    'SOC': 'socal',\n",
    "    'SOB': 'southbay',\n",
    "    'CCA': 'centralcoast',\n",
    "    'DLR': 'dudleyridge',\n",
    "    'TLB': 'tularelake',\n",
    "    'KWD': 'kaweahdelta',\n",
    "    'WSL': 'westlands',\n",
    "    'SNL': 'sanluiswater',\n",
    "    'PNC': 'panoche',\n",
    "    'DLP': 'delpuerto',\n",
    "    'CWC': 'chowchilla',\n",
    "    'MAD': 'madera',\n",
    "    'OTL': 'othertule',\n",
    "    'OFK': 'otherfriant',\n",
    "    'OCD': 'othercvp',\n",
    "    'OEX': 'otherexchange',\n",
    "    'OXV': 'othercrossvalley',\n",
    "    'OSW': 'otherswp',\n",
    "    'CNS': 'consolidated',\n",
    "    'ALT': 'alta',\n",
    "    'KRWA': 'krwa'\n",
    "}"
   ]
  },
  {
   "cell_type": "code",
   "execution_count": null,
   "id": "controversial-uganda",
   "metadata": {},
   "outputs": [],
   "source": [
    "districts = {}\n",
    "for i, s in enumerate(scenarios):\n",
    "    districts[s] = {}\n",
    "    dat = get_results_sensitivity_number_outside_model('results/' + s + '/results.hdf5', '')\n",
    "    keys = list(dat.keys())\n",
    "    index = dat.index\n",
    "    year = index.year\n",
    "    month = index.month\n",
    "    dom = index.day\n",
    "    doy = index.dayofyear\n",
    "    dowy = (doy + (365-274)) % 365\n",
    "    wy = np.array([year[i] if month[i] < 10 else year[i] + 1 for i in range(len(year))])\n",
    "    for d, v in district_lookup.items():\n",
    "        b = [k for k in keys if (((d in k.split('_')) or (v in k.split('_'))) and (('delivery' in k.split('_')) or ('flood' in k.split('_')) or ('recharged' in k.split('_')) or ('exchanged' in k.split('_')) or ('inleiu' in k.split('_')) or ('peiupumping' in k.split('_')) or ('banked' in k.split('_'))))]\n",
    "        df = dat.loc[:, b]\n",
    "        ## undo summation over years\n",
    "        for y in range(df.index.year.min() + 2, df.index.year.max() + 1):\n",
    "            maxprevious = df.loc[wy < y, :].iloc[-1, :]\n",
    "            df.loc[wy == y, :] += maxprevious\n",
    "        districts[s][d] = df.diff()\n",
    "    del dat, df"
   ]
  },
  {
   "cell_type": "code",
   "execution_count": null,
   "id": "creative-planner",
   "metadata": {},
   "outputs": [],
   "source": [
    "def total_deliveries(df):\n",
    "    df['total_deliveries'] = 0.0\n",
    "    for (wtype, position) in [('delivery', 2), ('flood', 2), ('recover', 1)]:\n",
    "        for c in df.columns:\n",
    "            try:\n",
    "                if c.split('_')[position] == wtype:\n",
    "                    df['total_deliveries'] += df[c]\n",
    "            except:\n",
    "                pass"
   ]
  },
  {
   "cell_type": "code",
   "execution_count": null,
   "id": "israeli-equivalent",
   "metadata": {},
   "outputs": [],
   "source": [
    "for s in scenarios:\n",
    "    for k in districts[s]:\n",
    "        total_deliveries(districts[s][k])"
   ]
  },
  {
   "cell_type": "code",
   "execution_count": null,
   "id": "confirmed-ranking",
   "metadata": {},
   "outputs": [],
   "source": [
    "### get annual results\n",
    "districts_wy = {}\n",
    "for s in scenarios:\n",
    "    districts_wy[s] = {}\n",
    "    for d in districts[s]:\n",
    "        districts_wy[s][d] = districts[s][d].groupby(wy).sum()"
   ]
  },
  {
   "cell_type": "code",
   "execution_count": null,
   "id": "eastern-grenada",
   "metadata": {},
   "outputs": [],
   "source": [
    "wy_agg = np.arange(1995, 2017)\n",
    "district_keys = list(districts[scenarios[1]].keys())\n",
    "nd = len(district_keys)"
   ]
  },
  {
   "cell_type": "code",
   "execution_count": null,
   "id": "million-pierce",
   "metadata": {
    "scrolled": false
   },
   "outputs": [],
   "source": [
    "### annual deliveries for each district in each scenario\n",
    "fig, axs = plt.subplots(4,2, figsize=figsize, sharey=True, sharex=True, gridspec_kw={'wspace':0.05})\n",
    "row = 0\n",
    "col = 0\n",
    "for i,s in enumerate(scenarios[1:9]):\n",
    "    ax = axs[row,col]\n",
    "    for j,k in enumerate(districts_wy[s]):\n",
    "        flowfrac = districts_wy[scenarios[0]]['LWT']['total_deliveries'] / districts_wy[scenarios[0]]['LWT']['total_deliveries'].max()\n",
    "        try:\n",
    "            cmap = 'Blues' if shares[s][k] > 0.0 else 'Reds'\n",
    "        except:\n",
    "            cmap = 'Reds'\n",
    "        sns.scatterplot(x=[j for _ in wy_agg], y=districts_wy[s][k]['total_deliveries'].values - districts_wy[scenarios[0]][k]['total_deliveries'].values, hue=flowfrac, hue_norm=(0,1), palette=cmap, legend=False, alpha=0.7, ax=ax)\n",
    "    ax.set_title(s)\n",
    "    if row == 3:\n",
    "        ax.set_xlabel('District')\n",
    "        ax.set_xticks(np.arange(nd))\n",
    "        ax.set_xticklabels(district_keys, rotation='vertical')\n",
    "    if col == 1:\n",
    "        row += 1\n",
    "        col = 0\n",
    "    else:\n",
    "        col += 1    "
   ]
  },
  {
   "cell_type": "code",
   "execution_count": null,
   "id": "appropriate-whole",
   "metadata": {},
   "outputs": [],
   "source": [
    "### get objectives\n",
    "objs_districts = {}\n",
    "for s in scenarios:\n",
    "    objs_districts[s] = {}\n",
    "    for d in district_keys:\n",
    "        objs_districts[s][d] = {}\n",
    "        objs_districts[s][d]['exp_gain'] = (districts_wy[s][d]['total_deliveries'] - districts_wy[scenarios[0]][d]['total_deliveries']).mean()\n",
    "        objs_districts[s][d]['std_gain'] = (districts_wy[s][d]['total_deliveries'] - districts_wy[scenarios[0]][d]['total_deliveries']).std()\n",
    "        objs_districts[s][d]['exp_del'] = (districts_wy[s][d]['total_deliveries']).mean()\n",
    "        objs_districts[s][d]['std_del'] = (districts_wy[s][d]['total_deliveries']).std()       "
   ]
  },
  {
   "cell_type": "code",
   "execution_count": null,
   "id": "moderate-template",
   "metadata": {
    "scrolled": false
   },
   "outputs": [],
   "source": [
    "### total expected gain per year for each district (difference from \"none\" scenario)\n",
    "fig, axs = plt.subplots(4,2, figsize=figsize, sharey=True, sharex=True, gridspec_kw={'wspace':0.05})\n",
    "row = 0\n",
    "col = 0\n",
    "for i,s in enumerate(scenarios[1:9]):\n",
    "    ax = axs[row,col]\n",
    "    for j,k in enumerate(districts_wy[s]):\n",
    "        try:\n",
    "            cmap = 'Blues' if shares[s][k] > 0.0 else 'Reds'\n",
    "        except:\n",
    "            cmap = 'Reds'\n",
    "        sns.scatterplot(x=[j], y=[objs_districts[s][k]['exp_gain']], hue=0.8, hue_norm=(0,1), palette=cmap, legend=False, alpha=0.7, ax=ax)\n",
    "        sns.lineplot(x=[j, j], y=[objs_districts[s][k]['exp_gain'] + objs_districts[s][k]['std_gain'], objs_districts[s][k]['exp_gain'] - objs_districts[s][k]['std_gain']], hue=0.8, hue_norm=(0,1), palette=cmap, legend=False, alpha=0.7, ax=ax)\n",
    "    ax.set_title(s)\n",
    "    if row == 3:\n",
    "        ax.set_xlabel('District')\n",
    "        ax.set_xticks(np.arange(nd))\n",
    "        ax.set_xticklabels(district_keys, rotation='vertical')\n",
    "    if col == 1:\n",
    "        row += 1\n",
    "        col = 0\n",
    "    else:\n",
    "        col += 1    "
   ]
  },
  {
   "cell_type": "code",
   "execution_count": null,
   "id": "unknown-transfer",
   "metadata": {
    "scrolled": false
   },
   "outputs": [],
   "source": [
    "### total expected gain per year for each district (difference from \"none\" scenario)\n",
    "fig, axs = plt.subplots(4,2, figsize=figsize, sharey=True, sharex=True, gridspec_kw={'wspace':0.05})\n",
    "row = 0\n",
    "col = 0\n",
    "for s in scenarios[21:29]:\n",
    "    ax = axs[row,col]\n",
    "    for j,k in enumerate(districts_wy[s]):\n",
    "        try:\n",
    "            cmap = 'Blues' if shares[s][k] > 0.0 else 'Reds'\n",
    "        except:\n",
    "            cmap = 'Reds'\n",
    "        sns.scatterplot(x=[j], y=[objs_districts[s][k]['exp_gain']], hue=0.8, hue_norm=(0,1), palette=cmap, legend=False, alpha=0.7, ax=ax)\n",
    "        sns.lineplot(x=[j, j], y=[objs_districts[s][k]['exp_gain'] + objs_districts[s][k]['std_gain'], objs_districts[s][k]['exp_gain'] - objs_districts[s][k]['std_gain']], hue=0.8, hue_norm=(0,1), palette=cmap, legend=False, alpha=0.7, ax=ax)\n",
    "    ax.set_title(s)\n",
    "    if row == 3:\n",
    "        ax.set_xlabel('District')\n",
    "        ax.set_xticks(np.arange(nd))\n",
    "        ax.set_xticklabels(district_keys, rotation='vertical')\n",
    "    if col == 1:\n",
    "        row += 1\n",
    "        col = 0\n",
    "    else:\n",
    "        col += 1    "
   ]
  },
  {
   "cell_type": "code",
   "execution_count": null,
   "id": "durable-romania",
   "metadata": {
    "scrolled": false
   },
   "outputs": [],
   "source": [
    "### total expected gain per year for each district (difference from \"none\" scenario)\n",
    "fig, axs = plt.subplots(4,2, figsize=figsize, sharey=True, sharex=True, gridspec_kw={'wspace':0.05})\n",
    "row = 0\n",
    "col = 0\n",
    "for i,s in enumerate(scenarios[41:49]):\n",
    "    ax = axs[row,col]\n",
    "    for j,k in enumerate(districts_wy[s]):\n",
    "        try:\n",
    "            cmap = 'Blues' if shares[s][k] > 0.0 else 'Reds'\n",
    "        except:\n",
    "            cmap = 'Reds'\n",
    "        sns.scatterplot(x=[j], y=[objs_districts[s][k]['exp_gain']], hue=0.8, hue_norm=(0,1), palette=cmap, legend=False, alpha=0.7, ax=ax)\n",
    "        sns.lineplot(x=[j, j], y=[objs_districts[s][k]['exp_gain'] + objs_districts[s][k]['std_gain'], objs_districts[s][k]['exp_gain'] - objs_districts[s][k]['std_gain']], hue=0.8, hue_norm=(0,1), palette=cmap, legend=False, alpha=0.7, ax=ax)\n",
    "    ax.set_title(s)\n",
    "    if row == 3:\n",
    "        ax.set_xlabel('District')\n",
    "        ax.set_xticks(np.arange(nd))\n",
    "        ax.set_xticklabels(district_keys, rotation='vertical')\n",
    "    if col == 1:\n",
    "        row += 1\n",
    "        col = 0\n",
    "    else:\n",
    "        col += 1    "
   ]
  },
  {
   "cell_type": "code",
   "execution_count": null,
   "id": "separate-private",
   "metadata": {},
   "outputs": [],
   "source": [
    "### scatter plot of benefits\n",
    "s = 0\n",
    "\n",
    "fig, axs = plt.subplots(1,2, figsize=(16,8), gridspec_kw={'wspace':0.5})\n",
    "\n",
    "gain_FKC_NFWB = []\n",
    "gain_FKC = []\n",
    "gain_NFWB = []\n",
    "scen = scenarios[s+1]\n",
    "for k in objs_districts[scen]:\n",
    "    gain_FKC_NFWB.append(objs_districts[scen][k]['exp_gain'])\n",
    "scen = scenarios[s+1+20]\n",
    "for k in objs_districts[scen]:\n",
    "    gain_FKC.append(objs_districts[scen][k]['exp_gain'])\n",
    "scen = scenarios[s+1+40]\n",
    "for k in objs_districts[scen]:\n",
    "    gain_NFWB.append(objs_districts[scen][k]['exp_gain'])\n",
    "cols = []\n",
    "for k in objs_districts[scen]:\n",
    "    try:\n",
    "        cmap = 'Blues' if shares[scen][k] > 0.0 else 'Reds'\n",
    "        cols.append(cm.get_cmap(cmap)(0.8))\n",
    "    except:\n",
    "        cmap = 'Reds'\n",
    "        cols.append(cm.get_cmap(cmap)(0.8))\n",
    "    \n",
    "ax = axs[0]\n",
    "ax.set_title('FKC vs FKC/NFWB')\n",
    "ax.set_xlabel('FKC gain')\n",
    "ax.set_ylabel('FKC + NFWB gain')\n",
    "ax.scatter(gain_FKC, gain_FKC_NFWB, c=cols, alpha=0.7)\n",
    "ax.plot([min(gain_FKC), max(gain_FKC)],[min(gain_FKC), max(gain_FKC)], c='k', ls=':')\n",
    "\n",
    "ax = axs[1]\n",
    "ax.set_title('NFWB vs FKC/NFWB')\n",
    "ax.set_xlabel('NFWB gain')\n",
    "ax.set_ylabel('FKC + NFWB gain')\n",
    "ax.scatter(gain_NFWB, gain_FKC_NFWB, c=cols, alpha=0.7)\n",
    "ax.plot([min(gain_NFWB), max(gain_NFWB)],[min(gain_NFWB), max(gain_NFWB)], c='k', ls=':')"
   ]
  },
  {
   "cell_type": "code",
   "execution_count": null,
   "id": "alive-hollow",
   "metadata": {},
   "outputs": [],
   "source": [
    "### aggregated objectives\n",
    "\n",
    "avg_partner_avg_gain = []\n",
    "min_partner_avg_gain = []\n",
    "avg_other_avg_gain = []\n",
    "min_other_avg_gain = []\n",
    "num_partners = []\n",
    "for s in scenarios[1:]:\n",
    "    partners = []\n",
    "    others = []\n",
    "    npartners = 0\n",
    "    for k in objs_districts[s]:\n",
    "        try:\n",
    "            if shares[s][k] > 0.0:\n",
    "                partners.append(objs_districts[s][k]['exp_gain'])\n",
    "                npartners += 1\n",
    "            else:\n",
    "                others.append(objs_districts[s][k]['exp_gain'])\n",
    "        except:\n",
    "            others.append(objs_districts[s][k]['exp_gain'])\n",
    "    avg_partner_avg_gain.append(sum(partners)/len(partners))\n",
    "    min_partner_avg_gain.append(min(partners))\n",
    "    avg_other_avg_gain.append(sum(others)/len(others))\n",
    "    min_other_avg_gain.append(min(others))\n",
    "    num_partners.append(npartners)\n",
    "    \n",
    "objs = pd.DataFrame({'avg_partner_avg_gain': avg_partner_avg_gain, 'min_partner_avg_gain': min_partner_avg_gain,\n",
    "                     'avg_other_avg_gain': avg_other_avg_gain, 'min_other_avg_gain': min_other_avg_gain, 'num_partners': num_partners})\n",
    "objs['scenario'] = scenarios[1:]\n",
    "objs['FKC'] = [1 if s.split('_',3)[3] == 'FKC' else 0 for s in objs['scenario']]\n",
    "objs['NFWB'] = [1 if s.split('_',3)[3] == 'NFWB' else 0 for s in objs['scenario']]\n",
    "objs['FKC_NFWB'] = [1 if s.split('_',3)[3] == 'FKC_NFWB' else 0 for s in objs['scenario']]\n",
    "objs['infra'] = [s.split('_',3)[3] for s in objs['scenario']]\n",
    "objs['samp'] = [int(s.split('_')[2]) for s in objs['scenario']]"
   ]
  },
  {
   "cell_type": "code",
   "execution_count": null,
   "id": "opponent-shelf",
   "metadata": {},
   "outputs": [],
   "source": [
    "# objs"
   ]
  },
  {
   "cell_type": "code",
   "execution_count": null,
   "id": "funny-lingerie",
   "metadata": {},
   "outputs": [],
   "source": [
    "sns.pairplot(objs, vars=['avg_partner_avg_gain', 'min_partner_avg_gain', 'avg_other_avg_gain', 'min_other_avg_gain'], hue='infra')"
   ]
  },
  {
   "cell_type": "code",
   "execution_count": null,
   "id": "animal-mathematics",
   "metadata": {},
   "outputs": [],
   "source": [
    "objs['sat1'] = [1 if s > 0.0 else 0 for s in objs['avg_partner_avg_gain']]\n",
    "objs['sat2'] = [1 if s > 0.0 else 0 for s in objs['min_partner_avg_gain']]\n",
    "objs['sat3'] = [1 if s > 0.0 else 0 for s in objs['avg_other_avg_gain']]\n",
    "objs['sat4'] = [1 if s > 0.0 else 0 for s in objs['min_other_avg_gain']]\n",
    "objs['satsum'] = objs['sat1'] + objs['sat2'] + objs['sat3'] + objs['sat4']\n",
    "objs['satsum']"
   ]
  },
  {
   "cell_type": "code",
   "execution_count": null,
   "id": "stable-reducing",
   "metadata": {},
   "outputs": [],
   "source": [
    "sns.pairplot(objs, vars=['avg_partner_avg_gain', 'min_partner_avg_gain', 'avg_other_avg_gain', 'min_other_avg_gain'], hue='satsum')"
   ]
  },
  {
   "cell_type": "code",
   "execution_count": null,
   "id": "working-professor",
   "metadata": {},
   "outputs": [],
   "source": [
    "sns.pairplot(objs.loc[objs['satsum'] > 2, :], vars=['avg_partner_avg_gain', 'min_partner_avg_gain', 'avg_other_avg_gain', 'min_other_avg_gain'], hue='infra')"
   ]
  },
  {
   "cell_type": "code",
   "execution_count": null,
   "id": "editorial-feature",
   "metadata": {},
   "outputs": [],
   "source": [
    "### fairness of benefits relative to shares (NOTE: added 10 to all to avoid negativity issues)\n",
    "gini = []\n",
    "for i in range(objs.shape[0]):\n",
    "    s = objs.scenario[i]\n",
    "    total_gain = (objs.avg_partner_avg_gain[i]+10) * objs.num_partners[i]\n",
    "    diff_gains = []\n",
    "    for k in districts[s]:\n",
    "        try:\n",
    "            if shares[s][k] > 0.0:\n",
    "                diff_gains.append((objs_districts[s][k]['exp_gain']+10) / (total_gain * shares[s][k]) )\n",
    "        except:\n",
    "            pass\n",
    "    # calculate gini coefficient of relative benefits\n",
    "    gini.append(0)\n",
    "    for j in range(len(diff_gains)):\n",
    "        for l in range(len(diff_gains)):\n",
    "            gini[-1] += abs(diff_gains[j] - diff_gains[l])\n",
    "    gini[-1] /= (2 * len(diff_gains)**2 * sum(diff_gains)/len(diff_gains))\n",
    "objs['gini'] = gini"
   ]
  },
  {
   "cell_type": "code",
   "execution_count": null,
   "id": "spare-giving",
   "metadata": {},
   "outputs": [],
   "source": [
    "fig, axs = plt.subplots(3,2, figsize=(16,10), gridspec_kw={'wspace':0.2})\n",
    "\n",
    "sns.barplot(data=objs, x='samp', y='avg_partner_avg_gain', hue='infra', ax=axs[0,0])\n",
    "sns.barplot(data=objs, x='samp', y='min_partner_avg_gain', hue='infra', ax=axs[0,1])\n",
    "sns.barplot(data=objs, x='samp', y='avg_other_avg_gain', hue='infra', ax=axs[1,0])\n",
    "sns.barplot(data=objs, x='samp', y='min_other_avg_gain', hue='infra', ax=axs[1,1])\n",
    "sns.barplot(data=objs, x='samp', y='gini', hue='infra', ax=axs[2,0])"
   ]
  },
  {
   "cell_type": "code",
   "execution_count": null,
   "id": "conscious-amazon",
   "metadata": {},
   "outputs": [],
   "source": [
    "### alternative gini-like measure & plot, based on ordering ownership share vs benefits\n",
    "def scatter_gini(i, ax):\n",
    "    s = objs.scenario[i]\n",
    "    if objs.infra[i] == 'FKC_NFWB':\n",
    "        cmap = 'Blues'\n",
    "    elif objs.infra[i] == 'FKC':\n",
    "        cmap = 'Greens'\n",
    "    elif objs.infra[i] == 'NFWB':\n",
    "        cmap = 'Oranges'\n",
    "    else:\n",
    "        print(s, i)\n",
    "    color = cm.get_cmap(cmap)(0.8) #((objs['samp'][i] % 20) / 19)\n",
    "    \n",
    "    total_gain = (objs.avg_partner_avg_gain[i]) * objs.num_partners[i]\n",
    "    gains = []\n",
    "    ds = []\n",
    "    owns = []\n",
    "    for k in districts[s]:\n",
    "        try:\n",
    "            if shares[s][k] > 0.0:\n",
    "                gains.append(objs_districts[s][k]['exp_gain'])\n",
    "                ds.append(k)\n",
    "                owns.append(shares[s][k])\n",
    "        except:\n",
    "            pass\n",
    "    ginidf = pd.DataFrame({'district': ds, 'share': owns, 'gain': gains})\n",
    "    ginidf['sharegain'] = total_gain * ginidf['share']\n",
    "    ginidf['gain/sharegain'] = ginidf['gain'] / ginidf['sharegain']\n",
    "    ginidf.sort_values('gain/sharegain', inplace=True)\n",
    "    ginidf['cumsharegain'] = ginidf['sharegain'].cumsum()\n",
    "    ginidf['cumgain'] = ginidf['gain'].cumsum()\n",
    "    ginidf['fraccumsharegain'] = ginidf['cumsharegain'] / ginidf['cumsharegain'].max()\n",
    "    ginidf['fraccumgain'] = ginidf['cumgain'] / ginidf['cumgain'].max()\n",
    "    ginidf = pd.concat([pd.DataFrame({'fraccumsharegain':[0], 'fraccumgain':[0]}), ginidf]).reset_index(drop=True)\n",
    "    \n",
    "    ax.plot(ginidf['fraccumsharegain'], ginidf['fraccumgain'], c=color, alpha=0.6, marker='o')\n",
    "    ax.plot([0,1],[0,1],c='k',ls=':')\n",
    "    ax.set_xlabel('Cumulative ownership')\n",
    "    ax.set_ylabel('Cumulative benefit')"
   ]
  },
  {
   "cell_type": "code",
   "execution_count": null,
   "id": "bizarre-ladder",
   "metadata": {},
   "outputs": [],
   "source": [
    "fig, axs = plt.subplots(4,3, figsize=(16,10), gridspec_kw={'wspace':0.2, 'hspace':0.5})\n",
    "\n",
    "samp = 1\n",
    "for i in [samp, samp+20, samp+40]:\n",
    "    scatter_gini(i, axs[0,0])\n",
    "# axs[0,0].set_title('Sample ' + str(samp))\n",
    "\n",
    "samp = 2\n",
    "for i in [samp, samp+20, samp+40]:\n",
    "    scatter_gini(i, axs[0,1])\n",
    "# axs[0,1].set_title('Sample ' + str(samp))\n",
    "\n",
    "samp = 3\n",
    "for i in [samp, samp+20, samp+40]:\n",
    "    scatter_gini(i, axs[0,2])\n",
    "# axs[0,2].set_title('Sample ' + str(samp))\n",
    "\n",
    "samp = 4\n",
    "for i in [samp, samp+20, samp+40]:\n",
    "    scatter_gini(i, axs[1,0])\n",
    "# axs[1,0].set_title('Sample ' + str(samp))\n",
    "\n",
    "samp = 5\n",
    "for i in [samp, samp+20, samp+40]:\n",
    "    scatter_gini(i, axs[1,1])\n",
    "# axs[1,1].set_title('Sample ' + str(samp))\n",
    "\n",
    "samp = 6\n",
    "for i in [samp, samp+20, samp+40]:\n",
    "    scatter_gini(i, axs[1,2])\n",
    "# axs[1,2].set_title('Sample ' + str(samp))\n",
    "\n",
    "samp = 7\n",
    "for i in [samp, samp+20, samp+40]:\n",
    "    scatter_gini(i, axs[2,0])\n",
    "# axs[2,0].set_title('Sample ' + str(samp))\n",
    "\n",
    "samp = 8\n",
    "for i in [samp, samp+20, samp+40]:\n",
    "    scatter_gini(i, axs[2,1])\n",
    "# axs[2,1].set_title('Sample ' + str(samp))\n",
    "\n",
    "samp = 9\n",
    "for i in [samp, samp+20, samp+40]:\n",
    "    scatter_gini(i, axs[2,2])\n",
    "# axs[2,2].set_title('Sample ' + str(samp))\n",
    "\n",
    "samp = 10\n",
    "for i in [samp, samp+20, samp+40]:\n",
    "    scatter_gini(i, axs[3,0])\n",
    "# axs[3,0].set_title('Sample ' + str(samp))\n",
    "\n",
    "samp = 11\n",
    "for i in [samp, samp+20, samp+40]:\n",
    "    scatter_gini(i, axs[3,1])\n",
    "# axs[3,1].set_title('Sample ' + str(samp))\n",
    "\n",
    "samp = 12\n",
    "for i in [samp, samp+20, samp+40]:\n",
    "    scatter_gini(i, axs[3,2])\n",
    "# axs[3,2].set_title('Sample ' + str(samp))\n",
    "    \n"
   ]
  },
  {
   "cell_type": "markdown",
   "id": "honey-ethics",
   "metadata": {},
   "source": [
    "### scratch"
   ]
  },
  {
   "cell_type": "code",
   "execution_count": null,
   "id": "funny-merchandise",
   "metadata": {},
   "outputs": [],
   "source": [
    "dum = pd.DataFrame({'dum':np.arange(20)})\n",
    "dum.rolling(5).mean().min()"
   ]
  }
 ],
 "metadata": {
  "kernelspec": {
   "display_name": ".venv_calfews2",
   "language": "python",
   "name": ".venv_calfews2"
  },
  "language_info": {
   "codemirror_mode": {
    "name": "ipython",
    "version": 3
   },
   "file_extension": ".py",
   "mimetype": "text/x-python",
   "name": "python",
   "nbconvert_exporter": "python",
   "pygments_lexer": "ipython3",
   "version": "3.6.9"
  }
 },
 "nbformat": 4,
 "nbformat_minor": 5
}