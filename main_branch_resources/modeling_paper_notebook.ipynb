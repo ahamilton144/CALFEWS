{
 "cells": [
  {
   "cell_type": "markdown",
   "metadata": {},
   "source": [
    "# CALFEWS: California Food-Energy-Water System simulation model\n",
    "\n",
    "This notebook will rerun all simulations and recreate all figures from the following manuscript:\n",
    "\n",
    "Zeff, H.B., Hamilton, A.L., Malek, K., Herman, J.D., Cohen, J.S., Medellin-Azuara, J., Reed, P.M., and G.W. Characklis. (2020). \"California's Food-Energy-Water System: An Open Source Simulation Model of Adaptive Surface and Groundwater Management in the Central Valley.\" (In review, preprint available at https://engrxiv.org/sqr7e/).\n",
    "\n",
    "Prior to running this notebook, follow the instructions in \"README.md\" to download the model and data, and install all Python dependencies."
   ]
  },
  {
   "cell_type": "markdown",
   "metadata": {},
   "source": [
    "## Run validation \n",
    "\n",
    "First, make sure you do not already have output stored at ``results/Historical_validation_1997-2016`` or ``results/Historical_reconstruction_1906-2016``. If so, it needs to be moved or deleted, or it will cause an error.\n",
    "\n",
    "Override parameter file with version in \"runtime_params_validation.ini\""
   ]
  },
  {
   "cell_type": "code",
   "execution_count": 1,
   "metadata": {},
   "outputs": [],
   "source": [
    "! cp runtime_params_validation.ini runtime_params.ini"
   ]
  },
  {
   "cell_type": "markdown",
   "metadata": {},
   "source": [
    "Run validation mode (1997-2016). This will take ~7-10 minutes. Note: you may need to change ``python`` to ``python3`` depending on your system setup."
   ]
  },
  {
   "cell_type": "code",
   "execution_count": 2,
   "metadata": {},
   "outputs": [
    {
     "name": "stdout",
     "output_type": "stream",
     "text": [
      "#######################################################\n",
      "Begin initialization...\n",
      "Initialization complete,  0:00:26.571801\n",
      "Begin simulation,  0:00:26.571888\n",
      "results/Historical_validation_1997-2016\n",
      "Year  1.0 ,  0:00:42.225521\n",
      "Year  2.0 ,  0:00:57.695774\n",
      "Year  3.0 ,  0:01:10.736299\n",
      "Year  4.0 ,  0:01:23.913503\n",
      "Year  5.0 ,  0:01:36.546530\n",
      "Year  6.0 ,  0:01:48.588354\n",
      "Year  7.0 ,  0:02:00.279946\n",
      "Year  8.0 ,  0:02:12.176092\n",
      "Year  9.0 ,  0:02:25.849324\n",
      "Year  10.0 ,  0:02:40.742602\n",
      "Year  11.0 ,  0:02:51.742830\n",
      "Year  12.0 ,  0:03:02.705682\n",
      "Year  13.0 ,  0:03:14.117306\n",
      "Year  14.0 ,  0:03:27.066439\n",
      "Year  15.0 ,  0:03:47.164894\n",
      "Year  16.0 ,  0:04:01.233314\n",
      "Year  17.0 ,  0:04:14.185930\n",
      "Year  18.0 ,  0:04:25.037359\n",
      "Year  19.0 ,  0:04:34.814480\n",
      "Year  20.0 ,  0:04:46.104096\n",
      "Simulation complete, 0:04:46.378450\n",
      "Objective calculation complete, 0:04:46.383613\n",
      "Data output complete, 0:04:51.696851\n"
     ]
    }
   ],
   "source": [
    "results_validation = \"results/Historical_validation_1997-2016\"\n",
    "! python -W ignore run_main_cy.py $results_validation 1 1"
   ]
  },
  {
   "cell_type": "markdown",
   "metadata": {},
   "source": [
    "## Run simulation \n",
    "Now change to simulation mode (1906-2016) and rerun. This will take ~35-50 minutes."
   ]
  },
  {
   "cell_type": "code",
   "execution_count": null,
   "metadata": {
    "scrolled": false
   },
   "outputs": [],
   "source": [
    "results_simulation = \"results/Historical_reconstruction_1906-2016\"\n",
    "! sed -i 's:\\\"validation\\\":\\\"simulation\\\":' runtime_params.ini\n",
    "! python -W ignore run_main_cy.py $results_simulation 1 1"
   ]
  },
  {
   "cell_type": "markdown",
   "metadata": {},
   "source": [
    "## Post-processing\n",
    "Run post-processing to analyze and visualize results. This will take a few hours."
   ]
  },
  {
   "cell_type": "code",
   "execution_count": 5,
   "metadata": {
    "scrolled": false
   },
   "outputs": [
    {
     "name": "stdout",
     "output_type": "stream",
     "text": [
      "Finish set up,  0:00:21.617461\n",
      "Finish Delta pumping/outflow figure,  0:02:50.287437\n",
      "Finish district deliveries figure,  0:26:28.575748\n",
      "Finish snowpack/flow relationship figure,  0:33:03.686595\n",
      "Finish state response figure,  0:33:07.263782\n",
      "Finish validation figures,  0:33:18.926046\n",
      "Starting Sankey diagrams (this will take a while)\n",
      "14600 September\n",
      "14601 September\n",
      "14602 September\n",
      "14603 September\n",
      "14604 September\n",
      "14605 September\n",
      "14606 September\n",
      "14607 September\n",
      "14608 September\n",
      "14609 September\n",
      "14610 October\n",
      "14611 October\n",
      "14612 October\n",
      "14613 October\n",
      "14614 October\n",
      "14615 October\n",
      "14616 October\n",
      "14617 October\n",
      "14618 October\n",
      "14619 October\n",
      "14620 October\n",
      "14621 October\n",
      "14622 October\n",
      "14623 October\n",
      "14624 October\n",
      "14625 October\n",
      "14626 October\n",
      "14627 October\n",
      "14628 October\n",
      "14629 October\n",
      "14630 October\n",
      "14631 October\n",
      "14632 October\n",
      "14633 October\n",
      "14634 October\n",
      "14635 October\n",
      "14636 October\n",
      "14637 October\n",
      "14638 October\n",
      "14639 October\n",
      "14640 October\n",
      "14641 November\n",
      "14642 November\n",
      "14643 November\n",
      "14644 November\n",
      "14645 November\n",
      "14646 November\n",
      "14647 November\n",
      "14648 November\n",
      "14649 November\n",
      "14650 November\n",
      "14651 November\n",
      "14652 November\n",
      "14653 November\n",
      "14654 November\n",
      "14655 November\n",
      "14656 November\n",
      "14657 November\n",
      "14658 November\n",
      "14659 November\n",
      "14660 November\n",
      "14661 November\n",
      "14662 November\n",
      "14663 November\n",
      "14664 November\n",
      "14665 November\n",
      "14666 November\n",
      "14667 November\n",
      "14668 November\n",
      "14669 November\n",
      "14670 November\n",
      "14671 December\n",
      "14672 December\n",
      "14673 December\n",
      "14674 December\n",
      "14675 December\n",
      "14676 December\n",
      "14677 December\n",
      "14678 December\n",
      "14679 December\n",
      "14680 December\n",
      "14681 December\n",
      "14682 December\n",
      "14683 December\n",
      "14684 December\n",
      "14685 December\n",
      "14686 December\n",
      "14687 December\n",
      "14688 December\n",
      "14689 December\n",
      "14690 December\n",
      "14691 December\n",
      "14692 December\n",
      "14693 December\n",
      "14694 December\n",
      "14695 December\n",
      "14696 December\n",
      "14697 December\n",
      "14698 December\n",
      "14699 December\n",
      "14700 December\n",
      "14701 December\n",
      "14702 January\n",
      "14703 January\n",
      "14704 January\n",
      "14705 January\n",
      "14706 January\n",
      "14707 January\n",
      "14708 January\n",
      "14709 January\n",
      "14710 January\n",
      "14711 January\n",
      "14712 January\n",
      "14713 January\n",
      "14714 January\n",
      "14715 January\n",
      "14716 January\n",
      "14717 January\n",
      "14718 January\n",
      "14719 January\n",
      "14720 January\n",
      "14721 January\n",
      "14722 January\n",
      "14723 January\n",
      "14724 January\n",
      "14725 January\n",
      "14726 January\n",
      "14727 January\n",
      "14728 January\n",
      "14729 January\n",
      "14730 January\n",
      "14731 January\n",
      "14732 January\n",
      "14733 February\n",
      "14734 February\n",
      "14735 February\n",
      "14736 February\n",
      "14737 February\n",
      "14738 February\n",
      "14739 February\n",
      "14740 February\n",
      "14741 February\n",
      "14742 February\n",
      "14743 February\n",
      "14744 February\n",
      "14745 February\n",
      "14746 February\n",
      "14747 February\n",
      "14748 February\n",
      "14749 February\n",
      "14750 February\n",
      "14751 February\n",
      "14752 February\n",
      "14753 February\n",
      "14754 February\n",
      "14755 February\n",
      "14756 February\n",
      "14757 February\n",
      "14758 February\n",
      "14759 February\n",
      "14760 February\n",
      "14761 March\n",
      "14762 March\n",
      "14763 March\n",
      "14764 March\n",
      "14765 March\n"
     ]
    }
   ],
   "source": [
    "results_figs = 'results/figs'\n",
    "results_sankeys = 'results/sankeys'\n",
    "! python -W ignore modeling_paper_postprocess.py $results_validation $results_simulation $results_figs $results_sankeys"
   ]
  },
  {
   "cell_type": "markdown",
   "metadata": {},
   "source": [
    "Show figures from postprocessing scripts. Note that if you rerun this, you may need to save your changes and then refresh the browser for the figures below to update to their newest versions."
   ]
  },
  {
   "cell_type": "code",
   "execution_count": 17,
   "metadata": {},
   "outputs": [
    {
     "data": {
      "text/html": [
       "<img src=\"results/figs/delta_pumping_extended_simulation.png\">"
      ],
      "text/plain": [
       "<IPython.core.display.HTML object>"
      ]
     },
     "execution_count": 17,
     "metadata": {},
     "output_type": "execute_result"
    }
   ],
   "source": [
    "from IPython.display import HTML\n",
    "HTML('<img src=\"' + results_figs + '/delta_pumping_extended_simulation.png\">')"
   ]
  },
  {
   "cell_type": "code",
   "execution_count": 18,
   "metadata": {},
   "outputs": [
    {
     "data": {
      "text/html": [
       "<img src=\"results/figs/district_water_use_annual_validation.png\">"
      ],
      "text/plain": [
       "<IPython.core.display.HTML object>"
      ]
     },
     "execution_count": 18,
     "metadata": {},
     "output_type": "execute_result"
    }
   ],
   "source": [
    "HTML('<img src=\"' + results_figs + '/district_water_use_annual_validation.png\">')"
   ]
  },
  {
   "cell_type": "code",
   "execution_count": 19,
   "metadata": {},
   "outputs": [
    {
     "data": {
      "text/html": [
       "<img src=\"results/figs/district_water_use_annual_simulation.png\">"
      ],
      "text/plain": [
       "<IPython.core.display.HTML object>"
      ]
     },
     "execution_count": 19,
     "metadata": {},
     "output_type": "execute_result"
    }
   ],
   "source": [
    "HTML('<img src=\"' + results_figs + '/district_water_use_annual_simulation.png\">')"
   ]
  },
  {
   "cell_type": "code",
   "execution_count": 20,
   "metadata": {},
   "outputs": [
    {
     "data": {
      "text/html": [
       "<img src=\"results/figs/state_estimation_publication.png\">"
      ],
      "text/plain": [
       "<IPython.core.display.HTML object>"
      ]
     },
     "execution_count": 20,
     "metadata": {},
     "output_type": "execute_result"
    }
   ],
   "source": [
    "HTML('<img src=\"' + results_figs + '/state_estimation_publication.png\">')"
   ]
  },
  {
   "cell_type": "code",
   "execution_count": 21,
   "metadata": {
    "scrolled": false
   },
   "outputs": [
    {
     "data": {
      "text/html": [
       "<img src=\"results/figs/state_response_sanluisstate_wheeler.png\">"
      ],
      "text/plain": [
       "<IPython.core.display.HTML object>"
      ]
     },
     "execution_count": 21,
     "metadata": {},
     "output_type": "execute_result"
    }
   ],
   "source": [
    "HTML('<img src=\"' + results_figs + '/state_response_sanluisstate_wheeler.png\">')"
   ]
  },
  {
   "cell_type": "code",
   "execution_count": 22,
   "metadata": {},
   "outputs": [
    {
     "data": {
      "text/html": [
       "<img src=\"results/figs/model_validation_sierra.png\">"
      ],
      "text/plain": [
       "<IPython.core.display.HTML object>"
      ]
     },
     "execution_count": 22,
     "metadata": {},
     "output_type": "execute_result"
    }
   ],
   "source": [
    "HTML('<img src=\"' + results_figs + '/model_validation_sierra.png\">')"
   ]
  },
  {
   "cell_type": "code",
   "execution_count": 23,
   "metadata": {},
   "outputs": [
    {
     "data": {
      "text/html": [
       "<img src=\"results/figs/model_validation_delta.png\">"
      ],
      "text/plain": [
       "<IPython.core.display.HTML object>"
      ]
     },
     "execution_count": 23,
     "metadata": {},
     "output_type": "execute_result"
    }
   ],
   "source": [
    "HTML('<img src=\"' + results_figs + '/model_validation_delta.png\">')"
   ]
  },
  {
   "cell_type": "code",
   "execution_count": 24,
   "metadata": {},
   "outputs": [
    {
     "data": {
      "text/html": [
       "<img src=\"results/figs/model_validation_sanluis.png\">"
      ],
      "text/plain": [
       "<IPython.core.display.HTML object>"
      ]
     },
     "execution_count": 24,
     "metadata": {},
     "output_type": "execute_result"
    }
   ],
   "source": [
    "HTML('<img src=\"' + results_figs + '/model_validation_sanluis.png\">')"
   ]
  },
  {
   "cell_type": "code",
   "execution_count": 25,
   "metadata": {},
   "outputs": [
    {
     "data": {
      "text/html": [
       "<img src=\"results/figs/model_validation_bank.png\">"
      ],
      "text/plain": [
       "<IPython.core.display.HTML object>"
      ]
     },
     "execution_count": 25,
     "metadata": {},
     "output_type": "execute_result"
    }
   ],
   "source": [
    "HTML('<img src=\"' + results_figs + '/model_validation_bank.png\">')"
   ]
  },
  {
   "cell_type": "code",
   "execution_count": 27,
   "metadata": {},
   "outputs": [
    {
     "data": {
      "text/html": [
       "<img src=\"results/sankeys/cali_sankey1946.gif\">"
      ],
      "text/plain": [
       "<IPython.core.display.HTML object>"
      ]
     },
     "execution_count": 27,
     "metadata": {},
     "output_type": "execute_result"
    }
   ],
   "source": [
    "HTML('<img src=\"' + results_sankeys + '/cali_sankey1946.gif\">')"
   ]
  }
 ],
 "metadata": {
  "kernelspec": {
   "display_name": ".venv_calfews2",
   "language": "python",
   "name": ".venv_calfews2"
  },
  "language_info": {
   "codemirror_mode": {
    "name": "ipython",
    "version": 3
   },
   "file_extension": ".py",
   "mimetype": "text/x-python",
   "name": "python",
   "nbconvert_exporter": "python",
   "pygments_lexer": "ipython3",
   "version": "3.6.9"
  }
 },
 "nbformat": 4,
 "nbformat_minor": 4
}
